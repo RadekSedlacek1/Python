{
 "cells": [
  {
   "cell_type": "code",
   "execution_count": null,
   "metadata": {},
   "outputs": [
    {
     "name": "stdout",
     "output_type": "stream",
     "text": [
      "[1, 1, 2, 1, 3, 0, 0]\n",
      "[1, 1, 2, 1, 3, 0, 0]\n",
      "Radkův kód:    0.6453139999939594 sec\n",
      "Nejlepší kód:  0.669899999993504 sec\n"
     ]
    }
   ],
   "source": [
    "# Moving zeros to the end\n",
    "\n",
    "input = [1, 0, 1, 2, 0, 1, 3]\n",
    "# Moje řešení\n",
    "def move_zeros(lst):\n",
    "    return [i for i in lst if i != 0] + lst.count(0)*[0]\n",
    "\n",
    "# CW best practise řešení je rychlejší - odpadá jedna operace - přidávání na konec. Manipulace 0 metodou je rychlejší\n",
    "def move_zeros_cw(array):\n",
    "    for i in array:\n",
    "        if i == 0:\n",
    "            array.remove(i) # Remove the element from the array\n",
    "            array.append(i) # Append the element to the end\n",
    "    return array\n",
    "\n",
    "print(move_zeros(input))\n",
    "print(move_zeros_cw(input))\n",
    "\n",
    "import timeit\n",
    "print(\"Radkův kód:   \",timeit.timeit(lambda: move_zeros(input), number=1000000), 'sec')\n",
    "print(\"Nejlepší kód: \",timeit.timeit(lambda: move_zeros(input), number=1000000), 'sec')"
   ]
  },
  {
   "cell_type": "code",
   "execution_count": 58,
   "metadata": {},
   "outputs": [
    {
     "name": "stdout",
     "output_type": "stream",
     "text": [
      "uisQay ustodietcay psosiay ustodescay ?\n",
      "uisQay ustodietcay psosiay ustodescay ?\n"
     ]
    }
   ],
   "source": [
    "# Simple Pig Latin\n",
    "\n",
    "input = 'Quis custodiet ipsos custodes ?'\n",
    "# Moje řešení:\n",
    "\n",
    "def pig_it(text):\n",
    "    words = text.split(\" \")\n",
    "    msg = \"\"\n",
    "    for word in words:\n",
    "        if word.isalpha():\n",
    "            msg += word[1::] + word[0] + \"ay \"\n",
    "        else:\n",
    "            msg += word + \" \"\n",
    "    return (msg[:-1:])\n",
    "\n",
    "print(pig_it(input))\n",
    "\n",
    "# nejlepší řešení:\n",
    "def pig_it_cw(text):\n",
    "    lst = text.split()\n",
    "    return ' '.join( [word[1:] + word[:1] + 'ay' if word.isalpha() else word for word in lst])\n",
    "\n",
    "print(pig_it_cw(input))\n"
   ]
  },
  {
   "cell_type": "code",
   "execution_count": 66,
   "metadata": {},
   "outputs": [
    {
     "data": {
      "text/plain": [
       "'99:59:59'"
      ]
     },
     "execution_count": 66,
     "metadata": {},
     "output_type": "execute_result"
    }
   ],
   "source": [
    "# Human Readable Time\n",
    "\n",
    "input = 359999\n",
    "# Moje řešení:\n",
    "\n",
    "def make_readable(seconds):\n",
    "    HH = seconds // 3600\n",
    "    MM = (seconds - HH * 3600) // 60\n",
    "    SS = seconds - HH * 3600 - MM * 60\n",
    "    return \"{:02d}:{:02d}:{:02d}\".format(HH,MM,SS)\n",
    "    \n",
    "make_readable(input)\n",
    "\n",
    "# nejlepší řešení:          Využití funkce divmod\n",
    "def make_readable(seconds):\n",
    "    hours, seconds = divmod(seconds, 60 ** 2)\n",
    "    minutes, seconds = divmod(seconds, 60)\n",
    "    return '{:02}:{:02}:{:02}'.format(hours, minutes, seconds)"
   ]
  },
  {
   "cell_type": "code",
   "execution_count": 97,
   "metadata": {},
   "outputs": [
    {
     "name": "stdout",
     "output_type": "stream",
     "text": [
      "0 0 0\n",
      "000000\n",
      "1 2 3\n",
      "010203\n",
      "255 255 255\n",
      "FFFFFF\n",
      "254 253 252\n",
      "FEFDFC\n",
      "0 255 125\n",
      "00FF7D\n"
     ]
    }
   ],
   "source": [
    "# RGB to Hex Conversion\n",
    "\n",
    "# Moje řešení\n",
    "def rgb(r, g, b):\n",
    "    def fix(x):\n",
    "        return 0 if x < 0 else 255 if x > 255 else x\n",
    "    r, g, b = fix(r), fix(g), fix(b)\n",
    "    print(r, g, b)\n",
    "    return '{:02X}{:02X}{:02X}'.format(r, g, b)\n",
    "\n",
    "# Nejlepší řešení           Využívá Lambda funkci\n",
    "def rgb(r, g, b):\n",
    "    round = lambda x: min(255, max(x, 0))\n",
    "    return (\"{:02X}\" * 3).format(round(r), round(g), round(b))\n"
   ]
  },
  {
   "cell_type": "code",
   "execution_count": 115,
   "metadata": {},
   "outputs": [
    {
     "name": "stdout",
     "output_type": "stream",
     "text": [
      "Contra move\n",
      "Contra move\n",
      "Contra move\n",
      "Contra move\n",
      "Původní instrukce: ['EAST', 'EAST', 'WEST', 'NORTH', 'WEST', 'EAST', 'EAST', 'SOUTH', 'NORTH', 'WEST']\n",
      "Nové instrukce: ['EAST', 'NORTH']\n"
     ]
    },
    {
     "data": {
      "text/plain": [
       "['EAST', 'NORTH']"
      ]
     },
     "execution_count": 115,
     "metadata": {},
     "output_type": "execute_result"
    }
   ],
   "source": [
    "# Directions Reduction\n",
    "\n",
    "input = [\"EAST\", \"EAST\", \"WEST\", \"NORTH\", \"WEST\", \"EAST\", \"EAST\", \"SOUTH\", \"NORTH\", \"WEST\"]\n",
    "\n",
    "# Moje řešení odpovídá nejlepšímu řešení. Jen nemusím měřit len > 0, stačí napsat if short, protože když je prázdný, vrací 0 a násobí výraz *0, což vrací False\n",
    "def dir_reduc(arr):\n",
    "    contra = {\"NORTH\":\"SOUTH\", \"SOUTH\":\"NORTH\", \"WEST\":\"EAST\", \"EAST\":\"WEST\"}\n",
    "    short = []\n",
    "    for move in arr:\n",
    "        if len(short) > 0 and short[-1] == contra[move]:\n",
    "            print(\"Contra move\")\n",
    "            short.pop(-1)\n",
    "        else:\n",
    "            short.append(move)\n",
    "    print(f\"Původní instrukce: {arr}\")\n",
    "    print(f\"Nové instrukce: {short}\")\n",
    "    return short\n",
    "\n",
    "dir_reduc(input)"
   ]
  },
  {
   "cell_type": "code",
   "execution_count": 52,
   "metadata": {},
   "outputs": [
    {
     "name": "stdout",
     "output_type": "stream",
     "text": [
      "35\n",
      "6\n",
      "2\n",
      "2\n",
      "{'val_1': 0}\n",
      "35\n",
      "6\n",
      "2\n",
      "2\n",
      "0\n"
     ]
    }
   ],
   "source": [
    "# Calculating with functions\n",
    "\n",
    "# Moje řešení:\n",
    "\n",
    "def operations(func):\n",
    "    name = func[\"name\"]\n",
    "    a = func[\"val_1\"]\n",
    "    b = func[\"val_2\"]\n",
    "\n",
    "    if name == \"times\":\n",
    "        return a * b\n",
    "    elif name == \"divided_by\":\n",
    "        return a // b\n",
    "    elif name == \"plus\":\n",
    "        return a + b\n",
    "    elif name == \"minus\":\n",
    "        return a - b\n",
    "\n",
    "def make_number_func(n):\n",
    "    def number_func(func=None):\n",
    "        if func is None:\n",
    "            return {\"val_1\": n}\n",
    "        func[\"val_1\"] = n\n",
    "        return operations(func)\n",
    "    return number_func\n",
    "\n",
    "names = [\"zero\", \"one\", \"two\", \"three\", \"four\", \"five\", \"six\", \"seven\", \"eight\", \"nine\"]\n",
    "\n",
    "for i, name in enumerate(names):\n",
    "    globals()[name] = make_number_func(i)\n",
    "\n",
    "def plus(x):\n",
    "    return {\"name\": \"plus\", \"val_2\": x[\"val_1\"]}\n",
    "\n",
    "def minus(x):\n",
    "    return {\"name\": \"minus\", \"val_2\": x[\"val_1\"]}\n",
    "\n",
    "def times(x):\n",
    "    return {\"name\": \"times\", \"val_2\": x[\"val_1\"]}\n",
    "\n",
    "def divided_by(x):\n",
    "    return {\"name\": \"divided_by\", \"val_2\": x[\"val_1\"]}\n",
    "\n",
    "print(seven(times(five())))      # 35\n",
    "print(nine(minus(three())))      # 6\n",
    "print(four(divided_by(two())))   # 2.0\n",
    "print(one(plus(one())))          # 2\n",
    "print(zero())                    # 0\n",
    "\n",
    "# Nejlepší řešení:\n",
    "def zero(arg=\"\"):  return eval(\"0\" + arg)\n",
    "def one(arg=\"\"):   return eval(\"1\" + arg)\n",
    "def two(arg=\"\"):   return eval(\"2\" + arg)\n",
    "def three(arg=\"\"): return eval(\"3\" + arg)\n",
    "def four(arg=\"\"):  return eval(\"4\" + arg)\n",
    "def five(arg=\"\"):  return eval(\"5\" + arg)\n",
    "def six(arg=\"\"):   return eval(\"6\" + arg)\n",
    "def seven(arg=\"\"): return eval(\"7\" + arg)\n",
    "def eight(arg=\"\"): return eval(\"8\" + arg)\n",
    "def nine(arg=\"\"):  return eval(\"9\" + arg)\n",
    "\n",
    "def plus(n):       return '+' + str(n)\n",
    "def minus(n):      return '-' + str(n)\n",
    "def times(n):      return '*' + str(n)\n",
    "def divided_by(n): return '//' + str(n)\n",
    "\n",
    "print(seven(times(five())))      # 35\n",
    "print(nine(minus(three())))      # 6\n",
    "print(four(divided_by(two())))   # 2.0\n",
    "print(one(plus(one())))          # 2\n",
    "print(zero())                    # 0"
   ]
  },
  {
   "cell_type": "code",
   "execution_count": 67,
   "metadata": {},
   "outputs": [
    {
     "name": "stdout",
     "output_type": "stream",
     "text": [
      "Radkův kód:    2.362652399984654 sec\n",
      "Nejlepší kód:  3.3897831000213046 sec\n"
     ]
    }
   ],
   "source": [
    "# Rot13\n",
    "input = \"'aA bB zZ 1234 *!?%\"\n",
    "\n",
    "# Moje řešení:\n",
    "def rot13(text):\n",
    "    shift = 13\n",
    "    ab = \"abcdefghijklmnopqrstuvwxyzabcdefghijklmnopqrstuvwxyzABCDEFGHIJKLMNOPQRSTUVWXYZABCDEFGHIJKLMNOPQRSTUVWXYZ\"\n",
    "    msg = \"\"\n",
    "    for symbol in text:\n",
    "        if symbol in ab:\n",
    "            msg += (ab[ab.index(symbol)+shift])\n",
    "        else:\n",
    "            msg += (symbol)\n",
    "    return msg\n",
    "\n",
    "# Nejlepší řešení:\n",
    "def rot13_cw(message):\n",
    "    return message.translate(message.maketrans('ABCDEFGHIJKLMNOPQRSTUVWXYZabcdefghijklmnopqrstuvwxyz','NOPQRSTUVWXYZABCDEFGHIJKLMnopqrstuvwxyzabcdefghijklm'))\n",
    "\n",
    "import timeit\n",
    "print(\"Radkův kód:   \",timeit.timeit(lambda: rot13(input), number=1000000), 'sec')\n",
    "\n",
    "print(\"Nejlepší kód: \",timeit.timeit(lambda: rot13_cw(input), number=1000000), 'sec')"
   ]
  },
  {
   "cell_type": "code",
   "execution_count": 75,
   "metadata": {},
   "outputs": [
    {
     "data": {
      "text/plain": [
       "2"
      ]
     },
     "execution_count": 75,
     "metadata": {},
     "output_type": "execute_result"
    }
   ],
   "source": [
    "# Pete, the baker\n",
    "\n",
    "recipe = {\"flour\": 500, \"sugar\": 200, \"eggs\": 1}\n",
    "available = {\"flour\": 1200, \"sugar\": 1200, \"eggs\": 5, \"milk\": 200}\n",
    "\n",
    "# Moje řešení\n",
    "def cakes(recipe, available):\n",
    "    batches = []\n",
    "    for item in recipe.keys():\n",
    "        if item in available:\n",
    "            batches.append(available[item]//recipe[item])\n",
    "        else:\n",
    "            return 0\n",
    "    return min(batches)\n",
    "    \n",
    "cakes(recipe,available)\n",
    "\n",
    "#Nejlepší řešení:\n",
    "def cakes(recipe, available):\n",
    "\treturn min(available.get(k, 0)/recipe[k] for k in recipe)"
   ]
  },
  {
   "cell_type": "code",
   "execution_count": 86,
   "metadata": {},
   "outputs": [
    {
     "name": "stdout",
     "output_type": "stream",
     "text": [
      "['', 'Hello', 'there', 'thanks', 'for', 'trying', 'my', 'Kata']\n"
     ]
    },
    {
     "data": {
      "text/plain": [
       "'#HelloThereThanksForTryingMyKata'"
      ]
     },
     "execution_count": 86,
     "metadata": {},
     "output_type": "execute_result"
    }
   ],
   "source": [
    "# The Hashtag Generator\n",
    "\n",
    "input = \" Hello there thanks for trying my Kata\"\n",
    "\n",
    "# Moje řešení:\n",
    "def generate_hashtag(s):\n",
    "    hstg=\"#\"\n",
    "    hstg_lst = s.split(\" \")\n",
    "    for word in hstg_lst:\n",
    "        if word.isalpha():\n",
    "            hstg += word.capitalize()\n",
    "    if len(hstg) <= 140 and len(hstg) > 1 :\n",
    "        return hstg\n",
    "    else:\n",
    "        return False\n",
    "    \n",
    "generate_hashtag(input)\n",
    "\n",
    "# Nejlepší řešení:\n",
    "def generate_hashtag(s):\n",
    "    output = \"#\"\n",
    "    for word in s.split():\n",
    "        output += word.capitalize()\n",
    "    return False if (len(s) == 0 or len(output) > 140) else output\n"
   ]
  },
  {
   "cell_type": "code",
   "execution_count": null,
   "metadata": {},
   "outputs": [
    {
     "name": "stdout",
     "output_type": "stream",
     "text": [
      "Radkův kód:    1.4229706000187434 sec\n",
      "Nejlepší kód:  0.26893389999167994 sec\n"
     ]
    }
   ],
   "source": [
    "# Maximum subarry sum\n",
    "\n",
    "input = [1, 2, -1, 3, -4, 5, -6, 7, -8]\n",
    "\n",
    "\n",
    "# Moje řešení: bylo funkční, ale velice pomalé\n",
    "def max_sequence(arr):\n",
    "    individual_maximas = [0]\n",
    "    if len(arr) == 0:\n",
    "        return 0\n",
    "    for index in range(len(arr)):\n",
    "#        print(\"Pro číslo\", arr[index],\":\")\n",
    "        local_max = max(0,arr[index])\n",
    "        if arr[index] > 0:\n",
    "            for span in range(len(arr)-index):\n",
    "    #            print(\"span:\",span)\n",
    "                local_sum = sum(arr[index:index+span+1:])\n",
    "    #            print(\"local sum:\",local_sum)\n",
    "                local_max = max(local_max,local_sum)\n",
    "    #            print(\"local max:\",local_max)\n",
    "            individual_maximas.append(local_max)\n",
    "        else:\n",
    "            pass\n",
    "#        print(individual_maximas)\n",
    "    return max(individual_maximas)\n",
    "\n",
    "# Kadaneho algoritmus\n",
    "def max_sequence_cw(arr):\n",
    "    max_current = max_global = 0\n",
    "    i = 1\n",
    "    for num in arr:\n",
    "        max_current = max(0, max_current + num) # Kontroluje, zda je dosavadní součet kladný. Je-li záporný, je lepší ho zahodit a pokračovat s 0 pro následné připoštení součtu\n",
    "        max_global = max(max_global, max_current)\n",
    "        i += 1\n",
    "    return max_global\n",
    "\n",
    "import timeit\n",
    "print(\"Radkův kód:   \",timeit.timeit(lambda: max_sequence(input), number=100000), 'sec')\n",
    "print(\"Nejlepší kód: \",timeit.timeit(lambda: max_sequence_cw(input), number=100000), 'sec')"
   ]
  },
  {
   "cell_type": "code",
   "execution_count": 156,
   "metadata": {},
   "outputs": [
    {
     "name": "stdout",
     "output_type": "stream",
     "text": [
      "[21, 34, True]\n",
      "[21, 34, True]\n"
     ]
    }
   ],
   "source": [
    "# Product of consecutive Fib numbers\n",
    "\n",
    "input = 714\n",
    "# Moje řešení\n",
    "def product_fib(num):\n",
    "    f = [0, 1]\n",
    "    fm = [0, 1]\n",
    "\n",
    "    while not fm[-1] >= num:\n",
    "        if len(f) > 2:\n",
    "            f.append(f[-1]+f[-2])\n",
    "            fm.append(f[-1]*f[-2])\n",
    "        else:\n",
    "            f.append(1)\n",
    "            fm.append(1)\n",
    "            \n",
    "    if num == 0:\n",
    "        return [0, 1, True]\n",
    "    elif num == 1:\n",
    "        return [1, 1, True]\n",
    "    elif fm[-1] == num:\n",
    "        return [f[-2], f[-1], True]\n",
    "    else:\n",
    "        return [f[-2], f[-1], False]\n",
    "print(product_fib(input))\n",
    "\n",
    "# Nejlepší řešení:\n",
    "def productFib(prod):\n",
    "    a, b = 0, 1\n",
    "    while prod > a * b:\n",
    "        a, b = b, a + b\n",
    "    return [a, b, prod == a * b]\n",
    "print(productFib(input))\n"
   ]
  },
  {
   "cell_type": "code",
   "execution_count": 161,
   "metadata": {},
   "outputs": [
    {
     "name": "stdout",
     "output_type": "stream",
     "text": [
      "e\n"
     ]
    }
   ],
   "source": [
    "# First non-repeating character\n",
    "\n",
    "# Moje řešení je podobné nejlepšímu na CW\n",
    "def first_non_repeating_letter(text):\n",
    "    for char in text:\n",
    "        if text.lower().count(char.lower()) == 1:\n",
    "            return char\n",
    "    return \"\"\n",
    "print(first_non_repeating_letter(\"text\"))\n",
    "\n",
    "# Nejlepší CW:\n",
    "def first_non_repeating_letter(string):\n",
    "    string_lower = string.lower()\n",
    "    for i, letter in enumerate(string_lower):\n",
    "        if string_lower.count(letter) == 1:\n",
    "            return string[i]\n",
    "            \n",
    "    return \"\""
   ]
  },
  {
   "cell_type": "code",
   "execution_count": null,
   "metadata": {},
   "outputs": [],
   "source": [
    "# Extract the domain name from a URL\n",
    "\n",
    "test_data = [\n",
    "    \"http://google.com\",\n",
    "    \"http://google.co.jp\",\n",
    "    \"https://123.net\",\n",
    "    \"https://hyphen-site.org\",\n",
    "    \"http://codewars.com\",\n",
    "    \"http://google.com\",\n",
    "    \"www.xakep.ru\",\n",
    "    \"https://youtube.com\",\n",
    "    \"http://www.codewars.com/kata/\",\n",
    "    \"icann.org\"\n",
    "]\n",
    "# Moje řešení:\n",
    "def domain_name(url):\n",
    "    if url[0:7] == \"http://\":\n",
    "        url = url[7::]\n",
    "    if url[0:8] == \"https://\":\n",
    "        url = url[8::]\n",
    "    if url[0:4] == \"www.\":\n",
    "        url = url[4::]\n",
    "    dot_pos = url.index(\".\")\n",
    "    return url[:dot_pos:]\n",
    "\n",
    "# Nejlepší řešení:\n",
    "def domain_name(url):\n",
    "    return url.split(\"//\")[-1].split(\"www.\")[-1].split(\".\")[0]\n",
    "\n",
    "# Mě se nejvíc líbí:\n",
    "def domain_name(url):\n",
    "    headers = [\"http://\", \"https://\", \"www.\", \"http://www\", \"https://www.\"]\n",
    "    for header in headers:\n",
    "        if header in url:\n",
    "            url = url.replace(header, \"\")\n",
    "    domain = url.split(\".\")[0]\n",
    "    return domain\n"
   ]
  },
  {
   "cell_type": "code",
   "execution_count": null,
   "metadata": {},
   "outputs": [],
   "source": [
    "# Weight for weight\n",
    "\n",
    "# Moje řešení:\n",
    "\"\"\" weight_dict = { 1: [10, 100],\n",
    "                    2: [101],\n",
    "                    3: [102, 111],\n",
    "                    4: [103, 112, 121, 130] \n",
    "                  } \"\"\"\n",
    "\n",
    "input = (\"49 56 65 74 100 91 19 68 86 180 90\")\n",
    "\n",
    "def order_weight(strng):\n",
    "    weight_list = strng.split(\" \")\n",
    "    weight_list.sort()\n",
    "    weight_dict = {}\n",
    "    msg = \"\"\n",
    "\n",
    "    for val in weight_list:\n",
    "        weight_key = 0\n",
    "\n",
    "        for char in val:\n",
    "            weight_key += int(char)\n",
    "\n",
    "        if weight_key not in weight_dict:\n",
    "            weight_dict[weight_key] = []\n",
    "\n",
    "        weight_dict[weight_key].append(val)\n",
    "\n",
    "    keys = list(weight_dict.keys())\n",
    "    keys.sort()\n",
    "\n",
    "    for key in keys:\n",
    "        for weight in (weight_dict[key]):\n",
    "            msg += weight + \" \"\n",
    "    return msg[:-1:]\n",
    "\n",
    "print(order_weight(input))\n",
    "\n",
    "# řešení na CW:\n",
    "def order_weight(_str):\n",
    "    return ' '.join(sorted(sorted(_str.split(' ')), key=lambda x: sum(int(c) for c in x)))\n"
   ]
  },
  {
   "cell_type": "code",
   "execution_count": 119,
   "metadata": {},
   "outputs": [
    {
     "name": "stdout",
     "output_type": "stream",
     "text": [
      "0\n",
      "999\n",
      "1000\n"
     ]
    },
    {
     "data": {
      "text/plain": [
       "'t1000'"
      ]
     },
     "execution_count": 119,
     "metadata": {},
     "output_type": "execute_result"
    }
   ],
   "source": [
    "# String incrementer\n",
    "\n",
    "input = \"t999\"\n",
    "# Moje řešení:\n",
    "def increment_string(strng):\n",
    "    if strng == \"\":\n",
    "        return \"1\"\n",
    "    i = len(strng)-1  # Pozice posledního písmenka\n",
    "    while strng[i].isdigit() and i >= 0:\n",
    "        i -= 1\n",
    "    print(i)\n",
    "        \n",
    "    orig_num = strng[i+1:]\n",
    "    print(orig_num)\n",
    "    \n",
    "    if orig_num == \"\":\n",
    "        return strng + \"1\"\n",
    "    \n",
    "    next_num = str(int(orig_num) +1)\n",
    "    \n",
    "    print(next_num)\n",
    "    if len(next_num) < len(orig_num):\n",
    "        next_num = next_num.zfill(len(orig_num))\n",
    "        \n",
    "    return strng[:i+1] + next_num\n",
    "\n",
    "increment_string(input)\n",
    "    \n",
    "# Nejlepší řešení:\n",
    "def increment_string(strng):\n",
    "    head = strng.rstrip('0123456789')\n",
    "    tail = strng[len(head):]\n",
    "    if tail == \"\": return strng+\"1\"\n",
    "    return head + str(int(tail) + 1).zfill(len(tail))\n"
   ]
  },
  {
   "cell_type": "code",
   "execution_count": 21,
   "metadata": {},
   "outputs": [
    {
     "data": {
      "text/plain": [
       "True"
      ]
     },
     "execution_count": 21,
     "metadata": {},
     "output_type": "execute_result"
    }
   ],
   "source": [
    "# Scramblies - zjisti, jestli se ze znaků v s1 dá vytvořit s2\n",
    "\n",
    "input_1 = \"scriptingjava\"\n",
    "input_2 = \"javascript\"\n",
    "# Moje řešení:\n",
    "from collections import Counter\n",
    "def scramble(str_1, str_2):\n",
    "    if not set(str_2).issubset(set(str_1)):\n",
    "            return False\n",
    "\n",
    "def scramble(s1, s2):\n",
    "    return not Counter(s2) - Counter(s1)\n",
    "\n",
    "scramble(input_1,input_2)\n"
   ]
  },
  {
   "cell_type": "code",
   "execution_count": 28,
   "metadata": {},
   "outputs": [
    {
     "name": "stdout",
     "output_type": "stream",
     "text": [
      "[4, 4, 4, 3, 3]\n",
      "Checking number 1\n",
      "Points: 0\n",
      "Checking number 2\n",
      "Points: 0\n",
      "Checking number 3\n",
      "Points: 0\n",
      "Checking number 4\n",
      "Points: 400\n",
      "Checking number 5\n",
      "Points: 400\n",
      "Checking number 6\n",
      "Points: 400\n",
      "400\n"
     ]
    }
   ],
   "source": [
    "# Greed is good\n",
    "\n",
    "input = [4, 4, 4, 3, 3]\n",
    "# Moje řešení\n",
    "\n",
    "def score(dice):\n",
    "\n",
    "    Score_3 = { 1 : 1000,\n",
    "                6 : 600,\n",
    "                5 : 500,\n",
    "                4 : 400,\n",
    "                3 : 300,\n",
    "                2 : 200,}\n",
    "    Score_1 = { 1 : 100,\n",
    "                5 :  50,}\n",
    "\n",
    "    points = 0\n",
    "    print(dice)\n",
    "\n",
    "    for num in range(1,7):\n",
    "        print(f\"Checking number {num}\")\n",
    "        if dice.count(num) >= 3:\n",
    "            points += Score_3[num]\n",
    "\n",
    "        if num in Score_1:\n",
    "            if dice.count(num) >= 3:\n",
    "                points += Score_1[num] * (dice.count(num) - 3 )\n",
    "            else:\n",
    "                points += Score_1[num] * dice.count(num)\n",
    "                \n",
    "        print(f\"Points: {points}\")\n",
    "\n",
    "    return points\n",
    "    \n",
    "print(score(input))\n",
    "\n",
    "# Nejlepší řešení: Není potřeba dict, stačí list.\n",
    "def score(dice): \n",
    "  sum = 0\n",
    "  counter = [0,0,0,0,0,0]\n",
    "  points = [1000, 200, 300, 400, 500, 600]\n",
    "  extra = [100,0,0,0,50,0]\n",
    "  for die in dice: \n",
    "    counter[die-1] += 1\n",
    "  \n",
    "  for (i, count) in enumerate(counter):\n",
    "    sum += (points[i] if count >= 3 else 0) + extra[i] * (count%3)\n",
    "\n",
    "  return sum "
   ]
  }
 ],
 "metadata": {
  "kernelspec": {
   "display_name": "Python 3",
   "language": "python",
   "name": "python3"
  },
  "language_info": {
   "codemirror_mode": {
    "name": "ipython",
    "version": 3
   },
   "file_extension": ".py",
   "mimetype": "text/x-python",
   "name": "python",
   "nbconvert_exporter": "python",
   "pygments_lexer": "ipython3",
   "version": "3.12.5"
  }
 },
 "nbformat": 4,
 "nbformat_minor": 2
}
