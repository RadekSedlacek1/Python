{
 "cells": [
  {
   "cell_type": "code",
   "execution_count": null,
   "metadata": {},
   "outputs": [
    {
     "name": "stdout",
     "output_type": "stream",
     "text": [
      "[1, 1, 2, 1, 3, 0, 0]\n",
      "[1, 1, 2, 1, 3, 0, 0]\n",
      "Radkův kód:    0.6453139999939594 sec\n",
      "Nejlepší kód:  0.669899999993504 sec\n"
     ]
    }
   ],
   "source": [
    "# Moving zeros to the end\n",
    "\n",
    "input = [1, 0, 1, 2, 0, 1, 3]\n",
    "# Moje řešení\n",
    "def move_zeros(lst):\n",
    "    return [i for i in lst if i != 0] + lst.count(0)*[0]\n",
    "\n",
    "# CW best practise řešení je rychlejší - odpadá jedna operace - přidávání na konec. Manipulace 0 metodou je rychlejší\n",
    "def move_zeros_cw(array):\n",
    "    for i in array:\n",
    "        if i == 0:\n",
    "            array.remove(i) # Remove the element from the array\n",
    "            array.append(i) # Append the element to the end\n",
    "    return array\n",
    "\n",
    "print(move_zeros(input))\n",
    "print(move_zeros_cw(input))\n",
    "\n",
    "import timeit\n",
    "print(\"Radkův kód:   \",timeit.timeit(lambda: move_zeros(input), number=1000000), 'sec')\n",
    "print(\"Nejlepší kód: \",timeit.timeit(lambda: move_zeros(input), number=1000000), 'sec')"
   ]
  },
  {
   "cell_type": "code",
   "execution_count": 58,
   "metadata": {},
   "outputs": [
    {
     "name": "stdout",
     "output_type": "stream",
     "text": [
      "uisQay ustodietcay psosiay ustodescay ?\n",
      "uisQay ustodietcay psosiay ustodescay ?\n"
     ]
    }
   ],
   "source": [
    "# Simple Pig Latin\n",
    "\n",
    "input = 'Quis custodiet ipsos custodes ?'\n",
    "# Moje řešení:\n",
    "\n",
    "def pig_it(text):\n",
    "    words = text.split(\" \")\n",
    "    msg = \"\"\n",
    "    for word in words:\n",
    "        if word.isalpha():\n",
    "            msg += word[1::] + word[0] + \"ay \"\n",
    "        else:\n",
    "            msg += word + \" \"\n",
    "    return (msg[:-1:])\n",
    "\n",
    "print(pig_it(input))\n",
    "\n",
    "# nejlepší řešení:\n",
    "def pig_it_cw(text):\n",
    "    lst = text.split()\n",
    "    return ' '.join( [word[1:] + word[:1] + 'ay' if word.isalpha() else word for word in lst])\n",
    "\n",
    "print(pig_it_cw(input))\n"
   ]
  },
  {
   "cell_type": "code",
   "execution_count": 66,
   "metadata": {},
   "outputs": [
    {
     "data": {
      "text/plain": [
       "'99:59:59'"
      ]
     },
     "execution_count": 66,
     "metadata": {},
     "output_type": "execute_result"
    }
   ],
   "source": [
    "# Human Readable Time\n",
    "\n",
    "input = 359999\n",
    "# Moje řešení:\n",
    "\n",
    "def make_readable(seconds):\n",
    "    HH = seconds // 3600\n",
    "    MM = (seconds - HH * 3600) // 60\n",
    "    SS = seconds - HH * 3600 - MM * 60\n",
    "    return \"{:02d}:{:02d}:{:02d}\".format(HH,MM,SS)\n",
    "    \n",
    "make_readable(input)\n",
    "\n",
    "# nejlepší řešení:          Využití funkce divmod\n",
    "def make_readable(seconds):\n",
    "    hours, seconds = divmod(seconds, 60 ** 2)\n",
    "    minutes, seconds = divmod(seconds, 60)\n",
    "    return '{:02}:{:02}:{:02}'.format(hours, minutes, seconds)"
   ]
  },
  {
   "cell_type": "code",
   "execution_count": 97,
   "metadata": {},
   "outputs": [
    {
     "name": "stdout",
     "output_type": "stream",
     "text": [
      "0 0 0\n",
      "000000\n",
      "1 2 3\n",
      "010203\n",
      "255 255 255\n",
      "FFFFFF\n",
      "254 253 252\n",
      "FEFDFC\n",
      "0 255 125\n",
      "00FF7D\n"
     ]
    }
   ],
   "source": [
    "# RGB to Hex Conversion\n",
    "\n",
    "# Moje řešení\n",
    "def rgb(r, g, b):\n",
    "    def fix(x):\n",
    "        return 0 if x < 0 else 255 if x > 255 else x\n",
    "    r, g, b = fix(r), fix(g), fix(b)\n",
    "    print(r, g, b)\n",
    "    return '{:02X}{:02X}{:02X}'.format(r, g, b)\n",
    "\n",
    "# Nejlepší řešení           Využívá Lambda funkci\n",
    "def rgb(r, g, b):\n",
    "    round = lambda x: min(255, max(x, 0))\n",
    "    return (\"{:02X}\" * 3).format(round(r), round(g), round(b))\n"
   ]
  },
  {
   "cell_type": "code",
   "execution_count": 115,
   "metadata": {},
   "outputs": [
    {
     "name": "stdout",
     "output_type": "stream",
     "text": [
      "Contra move\n",
      "Contra move\n",
      "Contra move\n",
      "Contra move\n",
      "Původní instrukce: ['EAST', 'EAST', 'WEST', 'NORTH', 'WEST', 'EAST', 'EAST', 'SOUTH', 'NORTH', 'WEST']\n",
      "Nové instrukce: ['EAST', 'NORTH']\n"
     ]
    },
    {
     "data": {
      "text/plain": [
       "['EAST', 'NORTH']"
      ]
     },
     "execution_count": 115,
     "metadata": {},
     "output_type": "execute_result"
    }
   ],
   "source": [
    "# Directions Reduction\n",
    "\n",
    "input = [\"EAST\", \"EAST\", \"WEST\", \"NORTH\", \"WEST\", \"EAST\", \"EAST\", \"SOUTH\", \"NORTH\", \"WEST\"]\n",
    "\n",
    "# Moje řešení odpovídá nejlepšímu řešení. Jen nemusím měřit len > 0, stačí napsat if short, protože když je prázdný, vrací 0 a násobí výraz *0, což vrací False\n",
    "def dir_reduc(arr):\n",
    "    contra = {\"NORTH\":\"SOUTH\", \"SOUTH\":\"NORTH\", \"WEST\":\"EAST\", \"EAST\":\"WEST\"}\n",
    "    short = []\n",
    "    for move in arr:\n",
    "        if len(short) > 0 and short[-1] == contra[move]:\n",
    "            print(\"Contra move\")\n",
    "            short.pop(-1)\n",
    "        else:\n",
    "            short.append(move)\n",
    "    print(f\"Původní instrukce: {arr}\")\n",
    "    print(f\"Nové instrukce: {short}\")\n",
    "    return short\n",
    "\n",
    "dir_reduc(input)"
   ]
  }
 ],
 "metadata": {
  "kernelspec": {
   "display_name": "Python 3",
   "language": "python",
   "name": "python3"
  },
  "language_info": {
   "codemirror_mode": {
    "name": "ipython",
    "version": 3
   },
   "file_extension": ".py",
   "mimetype": "text/x-python",
   "name": "python",
   "nbconvert_exporter": "python",
   "pygments_lexer": "ipython3",
   "version": "3.12.5"
  }
 },
 "nbformat": 4,
 "nbformat_minor": 2
}
