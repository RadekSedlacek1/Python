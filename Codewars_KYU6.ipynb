{
 "cells": [
  {
   "cell_type": "code",
   "execution_count": 18,
   "metadata": {},
   "outputs": [
    {
     "name": "stdout",
     "output_type": "stream",
     "text": [
      "195\n",
      "195\n"
     ]
    }
   ],
   "source": [
    "# Pro číslo n mi vrať součet všech čísel (dělitelných 3 nebo 5) < n\n",
    "\n",
    "# Moje řešení\n",
    "def solution(number):\n",
    "    result = 0\n",
    "    for item in range(number):\n",
    "        if item % 3 == 0:\n",
    "            result += item\n",
    "        elif item % 5 == 0:\n",
    "            result += item\n",
    "    return result\n",
    "print(solution(29))\n",
    "\n",
    "# Nejlepší řešení\n",
    "# Je lepší, protože lze využít comprehension zápis v argumentu jiného comprehension zápisu cyklu\n",
    "def solution(number):\n",
    "    return sum(x for x in range(number) if x % 3 == 0 or x % 5 == 0)\n",
    "print(solution(29))"
   ]
  },
  {
   "cell_type": "code",
   "execution_count": 19,
   "metadata": {},
   "outputs": [
    {
     "name": "stdout",
     "output_type": "stream",
     "text": [
      "(123) 456-7890\n",
      "(123) 456-7890\n"
     ]
    }
   ],
   "source": [
    "# Formátování z listu čísel na formát USA telefonního čísla\n",
    "\n",
    "# Moje řešení\n",
    "def create_phone_number(n): \n",
    "    clean = str(n).strip(\"[]\").replace(\" \",\"\").replace(\",\", \"\") \n",
    "    return (f'({clean[0:3]}) {clean[3:6]}-{clean[6:]}')\n",
    "print(create_phone_number([1, 2, 3, 4, 5, 6, 7, 8, 9, 0]))\n",
    "\n",
    "\n",
    "# Nejlepší řešení\n",
    "# Je lepší, protože není potřeba konverze datového typu a následné odstraňování znaků atp.\n",
    "def create_phone_number(n):\n",
    "\treturn \"({}{}{}) {}{}{}-{}{}{}{}\".format(*n)\n",
    "print(create_phone_number([1, 2, 3, 4, 5, 6, 7, 8, 9, 0]))"
   ]
  },
  {
   "cell_type": "code",
   "execution_count": 20,
   "metadata": {},
   "outputs": [
    {
     "name": "stdout",
     "output_type": "stream",
     "text": [
      "['A', 'B', 'C', 'D', 'A', 'B']\n",
      "[1, 2, 3]\n",
      "['A', 'B', 'C', 'D', 'A', 'B']\n",
      "[1, 2, 3]\n"
     ]
    }
   ],
   "source": [
    "# Odstraň dulpikace, pokud jsou duplikáty hned za sebou\n",
    "\n",
    "# Moje řešení\n",
    "def unique_in_order(sequence):\n",
    "    if len(sequence) == 0:\n",
    "        return []\n",
    "    elif len(sequence) == 1:\n",
    "        return [sequence[0]]\n",
    "    else:\n",
    "        a = sequence[0]\n",
    "        list_to_return = [a]\n",
    "        for b in sequence[1:]:\n",
    "            if a == b:\n",
    "                pass\n",
    "            else:\n",
    "                list_to_return.append(b)\n",
    "                a = b\n",
    "        return list_to_return\n",
    "print(unique_in_order('AAAABBBCCDAABBB'))\n",
    "print(unique_in_order([1, 2, 2, 3, 3]))\n",
    "\n",
    "# Nejlepší řešení\n",
    "# Je lepší, protože:\n",
    "#   1. ničemu nepřispívá podmínka s prázdnou větví pass\n",
    "#   2. Použitím prázdného listu na začátku se vyvaruji problému s prázdným vstupem\n",
    "#   3. Pokud ručně definuju první před nultý prvek jako None, nemám problém s 0. prvkem\n",
    "\n",
    "def unique_in_order(iterable):\n",
    "    result = []\n",
    "    prev = None\n",
    "    for char in iterable[0:]:\n",
    "        if char != prev:\n",
    "            result.append(char)\n",
    "            prev = char\n",
    "    return result\n",
    "print(unique_in_order('AAAABBBCCDAABBB'))\n",
    "print(unique_in_order([1, 2, 2, 3, 3]))"
   ]
  },
  {
   "cell_type": "code",
   "execution_count": 21,
   "metadata": {},
   "outputs": [],
   "source": [
    "# Zjisti, kolikrát je suma 2. mocnin cifer v číslu větší, než číslo. Pouze pokud je výsledek int\n",
    "\n",
    "# Moje řešení\n",
    "def dig_pow(n, p):\n",
    "    number = 0    \n",
    "    for index, element in enumerate(str(n)):\n",
    "        number += int(element) ** (index + int(p))\n",
    "    if number % n == 0:\n",
    "        return number / n\n",
    "    else:\n",
    "        return -1\n",
    "\n",
    "# Nejlepší řešení\n",
    "# Je lepší, protože můžu použít comprehension zápis\n",
    "def dig_pow(n, p):\n",
    "  s = 0\n",
    "  for i,c in enumerate(str(n)):\n",
    "     s += pow(int(c),p+i)\n",
    "  return s/n if s%n==0 else -1"
   ]
  },
  {
   "cell_type": "code",
   "execution_count": 22,
   "metadata": {},
   "outputs": [
    {
     "name": "stdout",
     "output_type": "stream",
     "text": [
      "Hey wollef sroirraw this is rehtona test\n",
      "Hey wollef sroirraw this is rehtona test\n"
     ]
    }
   ],
   "source": [
    "# Otoč slovo v textu, pokud má víc, než 5 písmen\n",
    "\n",
    "# Moje řešení\n",
    "def spin_words(sentence):\n",
    "    words = sentence.split(\" \")\n",
    "    for index, word in enumerate(words):\n",
    "        if len(word) > 4:\n",
    "            words[index] = word[::-1]    \n",
    "    return \"\".join(\" \" + str(i) for i in words).strip(\" \")\n",
    "#   return \" \".join(str(i) for i in words) je lepší zápis\n",
    "print(spin_words(\"Hey fellow warriors this is another test\"))\n",
    "\n",
    "# Nejlepší řešení\n",
    "# Je lepší, protože\n",
    "def spin_words(sentence):\n",
    "    return \" \".join([x[::-1] if len(x) >= 5 else x for x in sentence.split(\" \")])\n",
    "print(spin_words(\"Hey fellow warriors this is another test\"))"
   ]
  },
  {
   "cell_type": "code",
   "execution_count": 23,
   "metadata": {},
   "outputs": [
    {
     "name": "stdout",
     "output_type": "stream",
     "text": [
      "no one likes this\n",
      "Jacob and Alex like this\n",
      "Max, John and Mark like this\n",
      "Alex, Jacob and 2 others like this\n"
     ]
    }
   ],
   "source": [
    "# Výpis pro 0, 1-3 a 4+ prvků\n",
    "\n",
    "# Moje řešení\n",
    "def likes(names):\n",
    "    if len(names) == 0:\n",
    "        msg = \"no one likes this\"\n",
    "    elif len(names) == 1:\n",
    "        msg = f\"{names[0]} likes this\"\n",
    "    elif len(names) == 2:\n",
    "        msg = f\"{names[0]} and {names[1]} like this\"\n",
    "    elif len(names) == 3:\n",
    "        msg = f\"{names[0]}, {names[1]} and {names[2]} like this\"\n",
    "    else:\n",
    "        msg = f\"{names[0]}, {names[1]} and {len(names[2::1])} others like this\"\n",
    "    return msg\n",
    "\n",
    "# print(likes([]))\n",
    "# print(likes([\"Jacob\", \"Alex\"]))\n",
    "# print(likes([\"Max\", \"John\", \"Mark\"]))\n",
    "# print(likes([\"Alex\", \"Jacob\", \"Mark\", \"Max\"]))\n",
    "\n",
    "\n",
    "# Nejlepší řešení\n",
    "# Je lepší, protože si připraví formát v dictu, líp se s tím pracuje\n",
    "\n",
    "def likes(names):\n",
    "    # make a dictionary d of all the possible answers. Keys are the respective number\n",
    "    # of people who liked it.\n",
    "    \n",
    "    # {} indicate placeholders. They do not need any numbers but are simply replaced/formatted\n",
    "    # in the order the arguments in names are given to format\n",
    "    # {others} can be replaced by its name; below the argument \"others = length - 2\"\n",
    "    # is passed to str.format()\n",
    "    d = {\n",
    "        0: \"no one likes this\",\n",
    "        1: \"{} likes this\",\n",
    "        2: \"{} and {} like this\",\n",
    "        3: \"{}, {} and {} like this\",\n",
    "        4: \"{}, {} and {others} others like this\"\n",
    "        }\n",
    "    length = len(names)\n",
    "    # d[min(4, length)] insures that the appropriate string is called from the dictionary\n",
    "    # and subsequently returned. Min is necessary as len(names) may be > 4\n",
    "    \n",
    "    # The * in *names ensures that the list names is blown up and that format is called\n",
    "    # as if each item in names was passed to format individually, i. e.\n",
    "    # format(names[0], names[1], .... , names[n], others = length - 2\n",
    "    return d[min(4, length)].format(*names, others = length - 2)\n",
    "\n",
    "print(likes([]))\n",
    "print(likes([\"Jacob\", \"Alex\"]))\n",
    "print(likes([\"Max\", \"John\", \"Mark\"]))\n",
    "print(likes([\"Alex\", \"Jacob\", \"Mark\", \"Max\"]))"
   ]
  },
  {
   "cell_type": "code",
   "execution_count": 24,
   "metadata": {},
   "outputs": [
    {
     "name": "stdout",
     "output_type": "stream",
     "text": [
      "5\n"
     ]
    }
   ],
   "source": [
    "# Z listu int mi vrať to jedno číslo, jehož počet výskytu je lichý.\n",
    "\n",
    "def find_it(seq):\n",
    "    for num in seq:\n",
    "        if seq.count(num) %2:\n",
    "            return num\n",
    "print(find_it([20,1,-1,2,-2,3,3,5,5,1,2,4,20,4,-1,-2,5]))\n",
    "\n",
    "# Je nejlepší řešení"
   ]
  },
  {
   "cell_type": "code",
   "execution_count": 25,
   "metadata": {},
   "outputs": [
    {
     "name": "stdout",
     "output_type": "stream",
     "text": [
      "[3]\n",
      "[3]\n"
     ]
    }
   ],
   "source": [
    "# Z listu a odečti všechny výskyty elementů z listu b\n",
    "\n",
    "# Moje řešení\n",
    "def array_diff(a, b):\n",
    "    c = []\n",
    "    for element in a:\n",
    "        if not {element}.issubset(set(b)):\n",
    "            c.append(element)\n",
    "    return c\n",
    "print(array_diff([1, 2, 3], [1, 2]))\n",
    "\n",
    "# Nejlepší řešení\n",
    "# Je lepší, protože\n",
    "\n",
    "def array_diff(a, b):\n",
    "    return [x for x in a if x not in b]\n",
    "print(array_diff([1, 2, 3], [1, 2]))"
   ]
  },
  {
   "cell_type": "code",
   "execution_count": 26,
   "metadata": {},
   "outputs": [
    {
     "name": "stdout",
     "output_type": "stream",
     "text": [
      "2\n",
      "2\n"
     ]
    }
   ],
   "source": [
    "# Rekurzivně sčítej cifry, dokud ti nezbyde jedna cifra - tu vrať\n",
    "\n",
    "# Moje řešení\n",
    "def digital_root(n):\n",
    "    if len(str(n)) == 1:\n",
    "        return n\n",
    "    else:\n",
    "        return digital_root((sum(int(digit) for digit in str(n))))\n",
    "    \n",
    "print(digital_root(493193))\n",
    "\n",
    "# Nejlepší řešení\n",
    "# Je lepší, protože můžu už i tu první podmínku dát do coprehension zápisu. Taky můžu měřit velikost čísla a nepřevádět to na string v každé iteraci.\n",
    "\n",
    "def digital_root(n):\n",
    "    return n if n < 10 else digital_root(sum(map(int,str(n))))\n",
    "print(digital_root(493193))\n"
   ]
  },
  {
   "cell_type": "code",
   "execution_count": 27,
   "metadata": {},
   "outputs": [
    {
     "name": "stdout",
     "output_type": "stream",
     "text": [
      "9\n"
     ]
    }
   ],
   "source": [
    "# Vrať mi součet cifer v binárním zápisu\n",
    "# Moje řešení\n",
    "def count_bits(n):\n",
    "    return sum(int(char) for char in str(bin(n))[2::])\n",
    "\n",
    "print(count_bits(10101011))\n",
    "# Nejlepší řešení jsem uhodl"
   ]
  },
  {
   "cell_type": "code",
   "execution_count": 28,
   "metadata": {},
   "outputs": [
    {
     "name": "stdout",
     "output_type": "stream",
     "text": [
      "44\n",
      "44\n"
     ]
    },
    {
     "name": "stdout",
     "output_type": "stream",
     "text": [
      "Radkův kód:      0.9127512000013667 sec\n",
      "'Nejlepší' kód:  1.672995400000218 sec\n"
     ]
    }
   ],
   "source": [
    "# v listu 3+ čísel najdi to, které je buď jediné sudé, nebo liché.\n",
    "import timeit \n",
    "input = [1,1,1,1,1,44,7,7,7,7,7,7,7,7]\n",
    "\n",
    "# Moje řešení\n",
    "def find_outlier(integers):\n",
    "    even = 0\n",
    "    for num in integers[:3:]:\n",
    "        if num % 2 == 0:\n",
    "            even += 1\n",
    "    for num in integers:\n",
    "        if num % 2 == bool(even > 1):\n",
    "            return num\n",
    "        # 1. na prvních 3 prvkách si určím je-li list většinově sudý (lichý)\n",
    "        # 2. procházím list a vrátím první liché (sudé)\n",
    "\n",
    "# print(find_outlier([2, 4, 0, 100, 4, 11, 2602, 36]))\n",
    "# print(find_outlier([160, 3, 1719, 19, 11, 13, -21]))\n",
    "print(find_outlier(input))\n",
    "\n",
    "# Nejlepší řešení podle codewars, s řešením nesouhlasím - není potřeba procházet celý list, stačí najít první jiné\n",
    "def find_outlier_cw(int):\n",
    "    odds = [x for x in int if x%2!=0]\n",
    "    evens= [x for x in int if x%2==0]\n",
    "    return odds[0] if len(odds)<len(evens) else evens[0]\n",
    "print(find_outlier_cw(input))\n",
    "\n",
    "print(\"Radkův kód:     \",timeit.timeit(lambda: find_outlier(input), number=1000000), 'sec')\n",
    "print(\"'Nejlepší' kód: \",timeit.timeit(lambda: find_outlier_cw(input), number=1000000), 'sec')"
   ]
  },
  {
   "cell_type": "code",
   "execution_count": 29,
   "metadata": {},
   "outputs": [
    {
     "name": "stdout",
     "output_type": "stream",
     "text": [
      "2\n",
      "Radkův kód:    1.7171010999991267 sec\n",
      "Nejlepší kód:  1.4053562999979476 sec\n"
     ]
    }
   ],
   "source": [
    "# Vrať počet symbolů, které se v textu opakují alespoň 2x\n",
    "# Moje řešení\n",
    "import timeit\n",
    "input = \"abcdeaB\"\n",
    "\n",
    "def duplicate_count(text):\n",
    "    dobble = set()\n",
    "    for char in (text.lower()):\n",
    "        if text.lower().count(char) > 1:\n",
    "            dobble.add(char)\n",
    "    return len(dobble)\n",
    "\n",
    "# Nejlepší řešení:\n",
    "# Je lepší, protože lze ten výskyt jen počítat, nemusím žonglovat s druhým setem a měřit délku setu\n",
    "def duplicate_count_cw(s):\n",
    "  return len([c for c in set(s.lower()) if s.lower().count(c)>1])\n",
    "\n",
    "# print(duplicate_count(\"Indivisibilities\"))\n",
    "print(duplicate_count(\"abcdeaB\"))\n",
    "\n",
    "\n",
    "print(\"Radkův kód:   \",timeit.timeit(lambda: duplicate_count(input), number=1000000), 'sec')\n",
    "print(\"Nejlepší kód: \",timeit.timeit(lambda: duplicate_count_cw(input), number=1000000), 'sec')\n"
   ]
  },
  {
   "cell_type": "code",
   "execution_count": 30,
   "metadata": {},
   "outputs": [
    {
     "name": "stdout",
     "output_type": "stream",
     "text": [
      ")))(()()())(((((()(\n",
      ")))(()()())(((((()(\n",
      "Radkův kód:    0.5656868000005488 sec\n",
      "Nejlepší kód:  0.43474020000212477 sec\n"
     ]
    }
   ],
   "source": [
    "# Vrať symbol \"(\" pro unikátní char stringu a \")\" pro opakující se char\n",
    "import timeit \n",
    "input = \"(FgdZ(vGMfFOP@!bL(w\"\n",
    "\n",
    "def duplicate_encode(word):\n",
    "    msg = \"\"\n",
    "    for char in (word.lower()):\n",
    "        if word.lower().count(char) > 1:\n",
    "            msg += \")\" # more times\n",
    "        else:\n",
    "            msg += \"(\" # once\n",
    "    return msg\n",
    "print(duplicate_encode(input))\n",
    "\n",
    "# Nejlepší řešení:\n",
    "def duplicate_encode_cw(word):\n",
    "    return \"\".join([\"(\" if word.lower().count(c) == 1 else \")\" for c in word.lower()])\n",
    "print(duplicate_encode_cw(input))\n",
    "\n",
    "print(\"Radkův kód:   \",timeit.timeit(lambda: duplicate_encode(input), number=100000), 'sec')\n",
    "print(\"Nejlepší kód: \",timeit.timeit(lambda: duplicate_encode_cw(input), number=100000), 'sec')"
   ]
  },
  {
   "cell_type": "code",
   "execution_count": 31,
   "metadata": {},
   "outputs": [
    {
     "name": "stdout",
     "output_type": "stream",
     "text": [
      "True\n"
     ]
    }
   ],
   "source": [
    "# Take a Ten Minutes Walk in citty of Cartesia\n",
    "\n",
    "input = ['n','s','n','s','n','s','n','s','n','s']\n",
    "\n",
    "# Moje řešení je i nejlepší řešení na cw:\n",
    "def is_valid_walk(walk):\n",
    "    return walk.count(\"n\") == walk.count(\"s\") and walk.count(\"e\") == walk.count(\"w\") and len(walk) == 10\n",
    "\n",
    "print(is_valid_walk(input))\n"
   ]
  },
  {
   "cell_type": "code",
   "execution_count": 1,
   "metadata": {},
   "outputs": [
    {
     "name": "stdout",
     "output_type": "stream",
     "text": [
      "Radkův kód:    0.9776477000123123 sec\n",
      "Nejlepší kód:  0.6287800999998581 sec\n"
     ]
    }
   ],
   "source": [
    "# Replace With Alphabet Position\n",
    "\n",
    "import timeit\n",
    "input = \"The sunset sets at twelve o' clock.\"\n",
    "\n",
    "# Moje řešení:\n",
    "def alphabet_position(text):\n",
    "    text_lower = text.lower()\n",
    "    decoder = {\"a\":1,\"b\":2,\"c\":3,\"d\":4,\"e\":5,\"f\":6,\"g\":7,\"h\":8,\"i\":9,\"j\":10,\"k\":11,\"l\":12,\"m\":13,\"n\":14,\"o\":15,\"p\":16,\"q\":17,\"r\":18,\"s\":19,\"t\":20,\"u\":21,\"v\":22,\"w\":23,\"x\":24,\"y\":25,\"z\":26}\n",
    "    msg = \"\"\n",
    "    for char in text_lower:\n",
    "        try:\n",
    "            msg += str(decoder[char]) + \" \"\n",
    "        except:\n",
    "            pass\n",
    "    return(msg[:-1:])\n",
    "\n",
    "# Nejlepší řešení na cw:\n",
    "def alphabet_position_cw(text):\n",
    "    return ' '.join(str(ord(c) - 96) for c in text.lower() if c.isalpha())\n",
    "\n",
    "print(\"Radkův kód:   \",timeit.timeit(lambda: alphabet_position(input), number=100000), 'sec')\n",
    "print(\"Nejlepší kód: \",timeit.timeit(lambda: alphabet_position_cw(input), number=100000), 'sec')\n"
   ]
  },
  {
   "cell_type": "code",
   "execution_count": null,
   "metadata": {},
   "outputs": [],
   "source": []
  }
 ],
 "metadata": {
  "kernelspec": {
   "display_name": "Python 3",
   "language": "python",
   "name": "python3"
  },
  "language_info": {
   "codemirror_mode": {
    "name": "ipython",
    "version": 3
   },
   "file_extension": ".py",
   "mimetype": "text/x-python",
   "name": "python",
   "nbconvert_exporter": "python",
   "pygments_lexer": "ipython3",
   "version": "3.12.5"
  }
 },
 "nbformat": 4,
 "nbformat_minor": 2
}
