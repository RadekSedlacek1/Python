{
 "cells": [
  {
   "cell_type": "code",
   "execution_count": 10,
   "metadata": {},
   "outputs": [
    {
     "name": "stdout",
     "output_type": "stream",
     "text": [
      "Before: fruit list = ['apple', 'banana', 'cherry']\n",
      "fruits.append(\"orange\")\n",
      "After: fruit list = ['apple', 'banana', 'cherry', 'orange']\n",
      "\n",
      "Before: list a = ['apple', 'banana', 'cherry'];       list b = ['Ford', 'BMW', 'Volvo']\n",
      "a.append(b)\n",
      "After:  list a = ['apple', 'banana', 'cherry', ['Ford', 'BMW', 'Volvo']]\n",
      "\n",
      "Pozn.: Není stejný jako extend - jednotlivé prvky v cars jsou po append vloženy jako jeden prvek fruits\n"
     ]
    }
   ],
   "source": [
    "# append()      Adds an element at the end of the list\n",
    "\n",
    "# Syntax:\n",
    "# list.append(elmnt)\n",
    "# elmnt: Required. An element of any type (string, number, object etc.)\n",
    "\n",
    "fruits = ['apple', 'banana', 'cherry']\n",
    "print(f\"Before: fruit list = {fruits}\")\n",
    "fruits.append(\"orange\")\n",
    "print('fruits.append(\"orange\")')\n",
    "print(f\"After: fruit list = {fruits}\\n\")\n",
    "\n",
    "a = [\"apple\", \"banana\", \"cherry\"]\n",
    "b = [\"Ford\", \"BMW\", \"Volvo\"]\n",
    "print(f\"Before: list a = {a};       list b = {b}\")\n",
    "a.append(b)\n",
    "print(\"a.append(b)\")\n",
    "print(f\"After:  list a = {a}\")\n",
    "\n",
    "print(\"\\nPozn.: Není stejný jako extend - jednotlivé prvky v cars jsou po append vloženy jako jeden prvek fruits\")"
   ]
  },
  {
   "cell_type": "code",
   "execution_count": 11,
   "metadata": {},
   "outputs": [
    {
     "name": "stdout",
     "output_type": "stream",
     "text": [
      "Before: fruit list = ['apple', 'banana', 'cherry', 'orange']\n",
      "fruits.clear()\n",
      "After: fruit list = []\n"
     ]
    }
   ],
   "source": [
    "# clear()       Removes all the elements from the list\n",
    "\n",
    "# Syntax:\n",
    "# list.clear()\n",
    "# no parameters\n",
    "\n",
    "fruits = ['apple', 'banana', 'cherry', 'orange']\n",
    "print(f\"Before: fruit list = {fruits}\")\n",
    "fruits.clear()\n",
    "print(\"fruits.clear()\")\n",
    "print(f\"After: fruit list = {fruits}\")"
   ]
  },
  {
   "cell_type": "code",
   "execution_count": 12,
   "metadata": {},
   "outputs": [
    {
     "name": "stdout",
     "output_type": "stream",
     "text": [
      "List of fruits = ['apple', 'banana', 'cherry', 'orange']\n",
      "x = fruits.copy()\n",
      "New list x:      ['apple', 'banana', 'cherry', 'orange']\n"
     ]
    }
   ],
   "source": [
    "# copy()        Returns a copy of the list\n",
    "\n",
    "# Syntax:\n",
    "# list.copy()\n",
    "# no parameters\n",
    "\n",
    "fruits = ['apple', 'banana', 'cherry', 'orange']\n",
    "x = fruits.copy()\n",
    "print(f\"List of fruits = {fruits}\")\n",
    "print(\"x = fruits.copy()\")\n",
    "print(f\"New list x:      {x}\")"
   ]
  },
  {
   "cell_type": "code",
   "execution_count": 13,
   "metadata": {},
   "outputs": [
    {
     "name": "stdout",
     "output_type": "stream",
     "text": [
      "The list of Fruits = ['apple', 'banana', 'cherry']\n",
      "x = fruits.count(\"cherry\")\n",
      "A cherry is in th list 1 times.\n",
      "\n",
      "The list of digits = [1, 4, 2, 9, 7, 8, 9, 3, 1]\n",
      "y = points.count(9)\n",
      "Digit 9 is in the list 2 times.\n"
     ]
    }
   ],
   "source": [
    "# count()       Returns the number of elements with the specified value\n",
    "\n",
    "# Syntax:\n",
    "# list.count(value)\n",
    "# value: Required. Any type (string, number, list, tuple, etc.). The value to search for.\n",
    "\n",
    "fruits = ['apple', 'banana', 'cherry']\n",
    "x = fruits.count(\"cherry\")\n",
    "print(f\"The list of Fruits = {fruits}\")\n",
    "print('x = fruits.count(\"cherry\")')\n",
    "print(f\"A cherry is in th list {x} times.\\n\")\n",
    "\n",
    "# works in the list of int() as well\n",
    "points = [1, 4, 2, 9, 7, 8, 9, 3, 1]\n",
    "y = points.count(9)\n",
    "print(f\"The list of digits = {points}\")\n",
    "print(\"y = points.count(9)\")\n",
    "print(f\"Digit 9 is in the list {y} times.\")\n"
   ]
  },
  {
   "cell_type": "code",
   "execution_count": 14,
   "metadata": {},
   "outputs": [
    {
     "name": "stdout",
     "output_type": "stream",
     "text": [
      "Before: List fruits = ['apple', 'banana', 'cherry'] ;     List cars: ['Ford', 'BMW', 'Volvo'] \n",
      "fruits.extend(cars)\n",
      "After:  List fruits = ['apple', 'banana', 'cherry', 'Ford', 'BMW', 'Volvo']\n",
      "\n",
      "Pozn.: Není stejný jako append - jednotlivé prvky v cars jsou po extend nové prvky fruits\n"
     ]
    }
   ],
   "source": [
    "# extend()      Add the elements of a list (or any iterable), to the end of the current list\n",
    "\n",
    "# Syntax:\n",
    "# list.extend(iterable)\n",
    "# iterable: Required. Any iterable (list, set, tuple, etc.)\n",
    "\n",
    "fruits = ['apple', 'banana', 'cherry']\n",
    "cars = ['Ford', 'BMW', 'Volvo']\n",
    "print(f\"Before: List fruits = {fruits} ;     List cars: {cars} \")\n",
    "fruits.extend(cars)\n",
    "print('fruits.extend(cars)')\n",
    "print(f\"After:  List fruits = {fruits}\")\n",
    "\n",
    "print(\"\\nPozn.: Není stejný jako append - jednotlivé prvky v cars jsou po extend nové prvky fruits\")\n"
   ]
  },
  {
   "cell_type": "code",
   "execution_count": 15,
   "metadata": {},
   "outputs": [
    {
     "name": "stdout",
     "output_type": "stream",
     "text": [
      "List fruits = ['apple', 'banana', 'cherry']\n",
      "x = fruits.index(\"cherry\")\n",
      "Index of the item 'cherry' from the list fruits: x = 2\n",
      "\n",
      "Pozn.: Pozor, indexuje se od čísla 0.\n"
     ]
    }
   ],
   "source": [
    "# index()       Returns the index of the first element with the specified value\n",
    "\n",
    "# Syntax:\n",
    "# list.index(elmnt)\n",
    "# elmnt: Required. Any type (string, number, list, etc.). The element to search for\n",
    "\n",
    "fruits = ['apple', 'banana', 'cherry']\n",
    "print(f\"List fruits = {fruits}\")\n",
    "print('x = fruits.index(\"cherry\")')\n",
    "x = fruits.index(\"cherry\")\n",
    "print(f\"Index of the item 'cherry' from the list fruits: x = {x}\")\n",
    "print(\"\\nPozn.: Pozor, indexuje se od čísla 0.\")"
   ]
  },
  {
   "cell_type": "code",
   "execution_count": 16,
   "metadata": {},
   "outputs": [
    {
     "name": "stdout",
     "output_type": "stream",
     "text": [
      "Before: list fruits = ['apple', 'banana', 'cherry']\n",
      "fruits.insert(1, \"orange\")\n",
      "After: list fruits:  ['apple', 'orange', 'banana', 'cherry']\n",
      "\n",
      "Before: list fruits = ['apple', 'banana', 'cherry'];      list cars = ['Ford', 'BMW', 'Volvo']\n",
      "fruits.insert(1, cars)\n",
      "After:  list fruits: ['apple', ['Ford', 'BMW', 'Volvo'], 'banana', 'cherry']\n"
     ]
    }
   ],
   "source": [
    "# insert()      Adds an element at the specified position\n",
    "\n",
    "# Syntax:\n",
    "# list.insert(pos, elmnt)\n",
    "# pos: Required. A number specifying in which position to insert the value\n",
    "# elmnt: Required. An element of any type (string, number, object etc.)\n",
    "\n",
    "fruits = ['apple', 'banana', 'cherry']\n",
    "print(f\"Before: list fruits = {fruits}\")\n",
    "fruits.insert(1, \"orange\")\n",
    "print('fruits.insert(1, \"orange\")')\n",
    "print(f\"After: list fruits:  {fruits}\\n\")\n",
    "\n",
    "fruits = ['apple', 'banana', 'cherry']\n",
    "cars = ['Ford', 'BMW', 'Volvo']\n",
    "print(f\"Before: list fruits = {fruits};      list cars = {cars}\")\n",
    "fruits.insert(1, cars)\n",
    "print('fruits.insert(1, cars)')\n",
    "print(f\"After:  list fruits: {fruits}\")\n"
   ]
  },
  {
   "cell_type": "code",
   "execution_count": 17,
   "metadata": {},
   "outputs": [
    {
     "name": "stdout",
     "output_type": "stream",
     "text": [
      "Before: list fruits = ['apple', 'banana', 'cherry']\n",
      "x = fruits.pop(1)\n",
      "After:  list fruits = ['apple', 'cherry'];     string x = banana\n"
     ]
    }
   ],
   "source": [
    "# pop()         Removes the element at the specified position\n",
    "\n",
    "# Syntax:\n",
    "# list.pop(pos)\n",
    "# pos: Optional. A number specifying the position of the element you want to remove,\n",
    "# default value is -1, which returns the last item\n",
    "\n",
    "fruits = ['apple', 'banana', 'cherry']\n",
    "print(f\"Before: list fruits = {fruits}\")\n",
    "x = fruits.pop(1)\n",
    "print(\"x = fruits.pop(1)\")\n",
    "print(f\"After:  list fruits = {fruits};     string x = {x}\")\n"
   ]
  },
  {
   "cell_type": "code",
   "execution_count": 18,
   "metadata": {},
   "outputs": [
    {
     "name": "stdout",
     "output_type": "stream",
     "text": [
      "Before: list fruits = ['apple', 'banana', 'cherry', 'banana']\n",
      "fruits.remove(\"banana\")\n",
      "After:  list fruits = ['apple', 'cherry', 'banana']\n"
     ]
    }
   ],
   "source": [
    "# remove()      Removes the first item with the specified value\n",
    "\n",
    "# Syntax:\n",
    "# list.remove(elmnt)\n",
    "# elmnt: Required. Any type (string, number, list etc.) The element you want to remove\n",
    "\n",
    "fruits = ['apple', 'banana', 'cherry', 'banana']\n",
    "print(f\"Before: list fruits = {fruits}\")\n",
    "fruits.remove(\"banana\")\n",
    "print('fruits.remove(\"banana\")')\n",
    "print(f\"After:  list fruits = {fruits}\")\n",
    "\n"
   ]
  },
  {
   "cell_type": "code",
   "execution_count": 19,
   "metadata": {},
   "outputs": [
    {
     "name": "stdout",
     "output_type": "stream",
     "text": [
      "Before: list fruits = ['apple', 'banana', 'cherry']\n",
      "fruits.reverse()\n",
      "After:  list fruits = ['cherry', 'banana', 'apple']\n"
     ]
    }
   ],
   "source": [
    "# reserve()     Reverses the order of the list\n",
    "\n",
    "# Syntax:\n",
    "# list.reverse()\n",
    "# No parameters\n",
    "\n",
    "fruits = ['apple', 'banana', 'cherry']\n",
    "print(f\"Before: list fruits = {fruits}\")\n",
    "fruits.reverse()\n",
    "print(\"fruits.reverse()\")\n",
    "print(f\"After:  list fruits = {fruits}\")"
   ]
  },
  {
   "cell_type": "code",
   "execution_count": 20,
   "metadata": {},
   "outputs": [
    {
     "name": "stdout",
     "output_type": "stream",
     "text": [
      "Before: list cars = ['Ford', 'BMW', 'Volvo']\n",
      "cars.sort(reverse=True)\n",
      "After:  list cars = ['Volvo', 'Ford', 'BMW']\n",
      "\n",
      "Before: list fruits = ['Ford', 'Mitsubishi', 'BMW', 'VW']\n",
      "cars.sort(reverse=True, key=myFunc)\n",
      "After:  list cars =   ['Mitsubishi', 'Ford', 'BMW', 'VW']\n",
      "\n",
      "Pozn.: Definovaná Key fukce je délka stringu (jména).\n"
     ]
    }
   ],
   "source": [
    "# sort()        Sorts the list\n",
    "\n",
    "# Syntax:\n",
    "# list.sort(reverse=True|False, key=myFunc)\n",
    "# reverse:  Optional. reverse=True will sort the list descending. Default is reverse=False\n",
    "# key:      Optional. A function to specify the sorting criteria(s)\n",
    "\n",
    "cars = ['Ford', 'BMW', 'Volvo']\n",
    "print(f\"Before: list cars = {cars}\")\n",
    "cars.sort(reverse=True)\n",
    "print('cars.sort(reverse=True)')\n",
    "print(f\"After:  list cars = {cars}\\n\")\n",
    "\n",
    "cars = ['Ford', 'Mitsubishi', 'BMW', 'VW']\n",
    "print(f\"Before: list fruits = {cars}\")\n",
    "def myFunc(e):\n",
    "  return len(e)\n",
    "cars.sort(reverse=True, key=myFunc)\n",
    "print(\"cars.sort(reverse=True, key=myFunc)\")\n",
    "print(f\"After:  list cars =   {cars}\")\n",
    "\n",
    "print(\"\\nPozn.: Definovaná Key fukce je délka stringu (jména).\")\n",
    "\n"
   ]
  }
 ],
 "metadata": {
  "kernelspec": {
   "display_name": ".env",
   "language": "python",
   "name": "python3"
  },
  "language_info": {
   "codemirror_mode": {
    "name": "ipython",
    "version": 3
   },
   "file_extension": ".py",
   "mimetype": "text/x-python",
   "name": "python",
   "nbconvert_exporter": "python",
   "pygments_lexer": "ipython3",
   "version": "3.12.5"
  }
 },
 "nbformat": 4,
 "nbformat_minor": 2
}
