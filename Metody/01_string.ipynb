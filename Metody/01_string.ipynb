{
 "cells": [
  {
   "cell_type": "code",
   "execution_count": 1,
   "metadata": {},
   "outputs": [
    {
     "name": "stdout",
     "output_type": "stream",
     "text": [
      "Before: txt = python is gun\n",
      "x = txt.capitalize()\n",
      "After:    x = Python is gun\n"
     ]
    }
   ],
   "source": [
    "# capitalize()      Converts the FIRST character to upper case\n",
    "\n",
    "# Syntax:\n",
    "# string.capitalize()\n",
    "# No parameters\n",
    "\n",
    "txt = \"python is gun\"\n",
    "print(f\"Before: txt = {txt}\")\n",
    "x = txt.capitalize()\n",
    "print(\"x = txt.capitalize()\")\n",
    "print(f\"After:    x = {x}\")"
   ]
  },
  {
   "cell_type": "code",
   "execution_count": 2,
   "metadata": {},
   "outputs": [
    {
     "name": "stdout",
     "output_type": "stream",
     "text": [
      "Before: txt = Hello, and WELCOME to my World!\n",
      "x = txt.casefold()\n",
      "After:    x = hello, and welcome to my world!\n",
      "\n",
      "Pozn.: Podobné metodě lower(), ale \"je silnější\"\n"
     ]
    }
   ],
   "source": [
    "# casefold()        Converts string into lower case\n",
    "\n",
    "# Syntax:\n",
    "# string.casefold()\n",
    "# No parameters\n",
    "\n",
    "txt = \"Hello, and WELCOME to my World!\"\n",
    "print(f\"Before: txt = {txt}\")\n",
    "x = txt.casefold()\n",
    "print(f\"x = txt.casefold()\")\n",
    "print(f\"After:    x = {x}\")\n",
    "print('\\nPozn.: Podobné metodě lower(), ale \"je silnější\"')"
   ]
  },
  {
   "cell_type": "code",
   "execution_count": 3,
   "metadata": {},
   "outputs": [
    {
     "name": "stdout",
     "output_type": "stream",
     "text": [
      "Before: txt = banana\n",
      "x = txt.center(20, \"-\")\n",
      "After:    x = -------banana-------\n"
     ]
    }
   ],
   "source": [
    "# center()      Returns a centered string\n",
    "\n",
    "# Syntax:\n",
    "# string.center(length, character)\n",
    "# length: Required. The length of the returned string\n",
    "# character:    Optional. The character to fill the missing space on each side. Default is \" \" (space)\n",
    "\n",
    "txt = \"banana\"\n",
    "print(f\"Before: txt = {txt}\")\n",
    "x = txt.center(20, \"-\")\n",
    "print('x = txt.center(20, \"-\")')\n",
    "print(f\"After:    x = {x}\")"
   ]
  },
  {
   "cell_type": "code",
   "execution_count": 4,
   "metadata": {},
   "outputs": [
    {
     "name": "stdout",
     "output_type": "stream",
     "text": [
      "Before: txt = I love apples, apple are my favorite fruit\n",
      "x = txt.count(\"apple\")\n",
      "After:    x = 2\n"
     ]
    }
   ],
   "source": [
    "#count()       Returns the number of times a specified value occurs in a string\n",
    "\n",
    "# Syntax:\n",
    "# string.count(value, start, end)\n",
    "# value: Required. A String. The string to value to search for\n",
    "# start: Optional. An Integer. The position to start the search. Default is 0\n",
    "# end:   Optional. An Integer. The position to end the search. Default is the end of the string\n",
    "\n",
    "txt = \"I love apples, apple are my favorite fruit\"\n",
    "print(f'Before: txt = {txt}')\n",
    "x = txt.count(\"apple\")\n",
    "print(f'x = txt.count(\"apple\")')\n",
    "print(f'After:    x = {x}')"
   ]
  },
  {
   "cell_type": "code",
   "execution_count": 5,
   "metadata": {},
   "outputs": [
    {
     "name": "stdout",
     "output_type": "stream",
     "text": [
      "b'My name is Bed\\\\u0159ich Sedl\\\\xe1\\\\u010dek'\n",
      "b'My name is Bed\\xc5\\x99ich Sedl\\xc3\\xa1\\xc4\\x8dek'\n",
      "b'My name is Bed\\\\N{LATIN SMALL LETTER R WITH CARON}ich Sedl\\\\N{LATIN SMALL LETTER A WITH ACUTE}\\\\N{LATIN SMALL LETTER C WITH CARON}ek'\n",
      "b'My name is Bed\\xc5\\x99ich Sedl\\xc3\\xa1\\xc4\\x8dek'\n",
      "b'My name is Bed&#345;ich Sedl&#225;&#269;ek'\n"
     ]
    }
   ],
   "source": [
    "# encode()      Returns an encoded version of the string\n",
    "\n",
    "# Syntax:\n",
    "# string.encode(encoding=encoding, errors=errors)7\n",
    "# encoding: Optional. A String specifying the encoding to use. Default is \"UTF-8\", possible \"ascii\", \"UTF-16\",\"UTF-32\". \n",
    "# errors:   Optional. A String specifying the error method. Legal values are:\n",
    "#   'backslashreplace'  - uses a backslash instead of the character that could not be encoded\n",
    "#   'ignore'            - ignores the characters that cannot be encoded\n",
    "#   'namereplace'       - replaces the character with a text explaining the character\n",
    "#   'strict'            - Default, raises an error on failure\n",
    "#   'replace'           - replaces the character with a questionmark\n",
    "#   'xmlcharrefreplace' - replaces the character with an xml character\n",
    "\n",
    "txt = \"My name is Bedřich Sedláček\"\n",
    "\n",
    "print(txt.encode(encoding=\"ascii\",errors=\"backslashreplace\"))\n",
    "print(txt.encode(encoding=\"UTF-8\",errors=\"ignore\"))\n",
    "print(txt.encode(encoding=\"ascii\",errors=\"namereplace\"))\n",
    "print(txt.encode(encoding=\"UTF-8\",errors=\"replace\"))\n",
    "print(txt.encode(encoding=\"ascii\",errors=\"xmlcharrefreplace\"))"
   ]
  },
  {
   "cell_type": "code",
   "execution_count": 6,
   "metadata": {},
   "outputs": [
    {
     "name": "stdout",
     "output_type": "stream",
     "text": [
      "Before: txt = Hello, welcome to my world.\n",
      "x = txt.endswith(\"my world.\", 5, 15)\n",
      "y = txt.endswith(\"my world.\", 15, 35)\n",
      "After:    x = False, searched phrase in the string doesn't exists at given position\n",
      "After:    y = True, searched phrase in the string exists at given position\n"
     ]
    }
   ],
   "source": [
    "# endswith()        Returns true if the string ends with the specified value\n",
    "\n",
    "# Syntax:\n",
    "# string.endswith(value, start, end)\n",
    "# value: Required. The value to check if the string ends with\n",
    "# start: Optional. An Integer specifying at which position to start the search\n",
    "# end:   Optional. An Integer specifying at which position to end the search\n",
    "\n",
    "txt = \"Hello, welcome to my world.\"\n",
    "print(f'Before: txt = {txt}')\n",
    "x = txt.endswith(\"my world.\", 5, 15)\n",
    "y = txt.endswith(\"my world.\", 15, 35)\n",
    "print(f'x = txt.endswith(\"my world.\", 5, 15)')\n",
    "print(f'y = txt.endswith(\"my world.\", 15, 35)')\n",
    "print(f\"After:    x = {x}, searched phrase in the string doesn't exists at given position\")\n",
    "print(f\"After:    y = {y}, searched phrase in the string exists at given position\")"
   ]
  },
  {
   "cell_type": "code",
   "execution_count": 7,
   "metadata": {},
   "outputs": [
    {
     "name": "stdout",
     "output_type": "stream",
     "text": [
      "                 txt = H\te\tl\tl\to\n",
      "    txt.expandtabs() = Hello\n",
      "   txt.expandtabs(2) = H e l l o\n",
      "   txt.expandtabs(4) = H e l l o\n",
      "   txt.expandtabs(6) = H     e     l     l     o\n"
     ]
    }
   ],
   "source": [
    "# expandtabs()      Sets the tab size of the string\n",
    "\n",
    "# Syntax:\n",
    "# string.expandtabs(tabsize)\n",
    "# tabsize: Optional. A number specifying the tabsize. Default tabsize is 8\n",
    "\n",
    "txt = \"H\\te\\tl\\tl\\to\"\n",
    "\n",
    "print(\"                 txt =\", txt)\n",
    "print(f'    txt.expandtabs() = {txt.expandtabs(0)}')\n",
    "print(f'   txt.expandtabs(2) = {txt.expandtabs(1)}')\n",
    "print(f'   txt.expandtabs(4) = {txt.expandtabs(2)}')\n",
    "print(f'   txt.expandtabs(6) = {txt.expandtabs(6)}')\n"
   ]
  },
  {
   "cell_type": "code",
   "execution_count": 8,
   "metadata": {},
   "outputs": [
    {
     "name": "stdout",
     "output_type": "stream",
     "text": [
      "Before: txt = Hello, welcome to my elementar world.\n",
      "x = txt.find(\"e\", 5, 10)\n",
      "After:    x = 8\n"
     ]
    }
   ],
   "source": [
    "# find()        Searches the string for a specified value and returns the position of where it was found\n",
    "\n",
    "# Syntax\n",
    "# string.find(value, start, end)\n",
    "# value:    Required. The value to search for\n",
    "# start:    Optional. Where to start the search. Default is 0\n",
    "# end:      Optional. Where to end the search. Default is to the end of the string\n",
    "\n",
    "txt = \"Hello, welcome to my elementar world.\"\n",
    "print(f'Before: txt = {txt}')\n",
    "x = txt.find(\"e\", 5, 10)\n",
    "print(f'x = txt.find(\"e\", 5, 10)')\n",
    "print(f'After:    x = {x}')\n"
   ]
  },
  {
   "cell_type": "code",
   "execution_count": 1,
   "metadata": {},
   "outputs": [
    {
     "name": "stdout",
     "output_type": "stream",
     "text": [
      "Cena výrobku je 49.90 Kč\n",
      "09:07:05\n"
     ]
    }
   ],
   "source": [
    "# format()\n",
    "# Metoda .format() umožňuje vložit hodnoty do textového řetězce pomocí tzv. zástupných míst (placeholderů), které se označují složenými závorkami {}.\n",
    "\n",
    "# \"Text s místem pro hodnotu: {}\".format(hodnota)\n",
    "cena = 49.9\n",
    "vysledek = \"Cena výrobku je {:.2f} Kč\".format(cena)\n",
    "print(vysledek)\n",
    "\n",
    "hodiny = 9\n",
    "minuty = 7\n",
    "sekundy = 5\n",
    "\n",
    "vysledek = \"{:02d}:{:02d}:{:02d}\".format(hodiny, minuty, sekundy)\n",
    "# 0 je opravdu vyplňovací znak (padding),\n",
    "# 2 je minimální šířka,\n",
    "# d říká, že formátujeme celé číslo.\n",
    "print(vysledek)\n",
    "\"\"\"\n",
    "| Zápis     | Význam                                    |\n",
    "| --------- | ----------------------------------------- |\n",
    "| `{}`      | Bez formátování                           |\n",
    "| `{:f}`    | Desetinné číslo                           |\n",
    "| `{:.2f}`  | Float s 2 desetinnými číslicemi           |\n",
    "| `{:d}`    | Celé číslo                                |\n",
    "| `{:02d}`  | Dvouciferné celé číslo s nulou na začátku |\n",
    "| `{:>10}`  | Zarovnání doprava (na 10 znaků)           |\n",
    "| `{:<10}`  | Zarovnání doleva (na 10 znaků)            |\n",
    "| `{:^10}`  | Zarovnání na střed                        |\n",
    "| `{:,.2f}` | Oddělovač tisíců + 2 desetinná místa      |\n",
    "    \"\"\""
   ]
  }
 ],
 "metadata": {
  "kernelspec": {
   "display_name": "Python 3",
   "language": "python",
   "name": "python3"
  },
  "language_info": {
   "codemirror_mode": {
    "name": "ipython",
    "version": 3
   },
   "file_extension": ".py",
   "mimetype": "text/x-python",
   "name": "python",
   "nbconvert_exporter": "python",
   "pygments_lexer": "ipython3",
   "version": "3.12.5"
  }
 },
 "nbformat": 4,
 "nbformat_minor": 2
}
