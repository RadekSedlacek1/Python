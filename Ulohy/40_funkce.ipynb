{
 "cells": [
  {
   "cell_type": "code",
   "execution_count": 1,
   "metadata": {},
   "outputs": [
    {
     "name": "stdout",
     "output_type": "stream",
     "text": [
      "Given list is [1, 2, 3, 4, 5, 6, 4, 2, 5, 6, 7, 2, 4, 1, 5]\n",
      "Wanted character is in the follow positions: [4, 7, 13]\n"
     ]
    }
   ],
   "source": [
    "def list_searcher(element_list,wanted):\n",
    "\n",
    "    result_list = []\n",
    "\n",
    "    for index, element in enumerate(element_list):\n",
    "        if element == wanted:\n",
    "            result_list.append(index+1)\n",
    "    print(f\"Given list is {element_list}\")\n",
    "    print(f\"Wanted character is in the follow positions: {result_list}\")\n",
    "    return None\n",
    "\n",
    "a = [ 1, 2, 3, 4, 5, 6, 4, 2, 5, 6, 7, 2, 4, 1, 5]\n",
    "searched_for = 4\n",
    "list_searcher(a,searched_for)"
   ]
  },
  {
   "cell_type": "code",
   "execution_count": null,
   "metadata": {},
   "outputs": [],
   "source": [
    "# Module 4 (HW), functions, part 2, task 3\n",
    "# Write a function that returns number of primes in a list. The list is passed as a parameter. The result is returned from a function.\n",
    "\n",
    "def list_element_primes(number_list):\n",
    "    primes = 0\n",
    "    for number in number_list:\n",
    "        prime = True\n",
    "        for i in range(2,number):\n",
    "            if number % i == 0:\n",
    "                prime = False\n",
    "        if prime:\n",
    "            primes += 1\n",
    "#        print(f\"{number},{prime},{primes}\")\n",
    "    return primes\n",
    "\n",
    "a = (5, 2, 3, 5, 4, 7, 6, 9, 1)\n",
    "primes = list_element_primes(a)\n",
    "print(f\"Number of primes in the given list is {primes}.\")"
   ]
  }
 ],
 "metadata": {
  "kernelspec": {
   "display_name": "Python 3",
   "language": "python",
   "name": "python3"
  },
  "language_info": {
   "codemirror_mode": {
    "name": "ipython",
    "version": 3
   },
   "file_extension": ".py",
   "mimetype": "text/x-python",
   "name": "python",
   "nbconvert_exporter": "python",
   "pygments_lexer": "ipython3",
   "version": "3.12.5"
  }
 },
 "nbformat": 4,
 "nbformat_minor": 2
}
