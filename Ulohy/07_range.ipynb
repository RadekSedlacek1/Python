{
 "cells": [
  {
   "cell_type": "code",
   "execution_count": 1,
   "metadata": {},
   "outputs": [
    {
     "name": "stdout",
     "output_type": "stream",
     "text": [
      "**********\n",
      "**********\n",
      "**********\n",
      "**********\n",
      "**********\n",
      "**********\n",
      "**********\n",
      "**********\n",
      "**********\n",
      "**********\n"
     ]
    }
   ],
   "source": [
    "# Square\n",
    "square_size = 10\n",
    "for row in range(square_size):\n",
    "    print(\"*\" * square_size)"
   ]
  },
  {
   "cell_type": "code",
   "execution_count": 3,
   "metadata": {},
   "outputs": [
    {
     "name": "stdout",
     "output_type": "stream",
     "text": [
      "####   ####   ####   \n",
      "####   ####   ####   \n",
      "                     \n",
      "####   ####   ####   \n",
      "####   ####   ####   \n",
      "                     \n",
      "####   ####   ####   \n",
      "####   ####   ####   \n",
      "                     \n"
     ]
    }
   ],
   "source": [
    "# Group of squares\n",
    "group_size = 2\n",
    "group_count = 3\n",
    "gap_size = 1\n",
    "\n",
    "full = \"#\"\n",
    "empty = \" \"\n",
    "\n",
    "for row in range(group_count):\n",
    "    for depth in range(group_size):\n",
    "        print(group_count*(2*(group_size * full) + 3*(gap_size * empty)))\n",
    "    for depth in range(gap_size):\n",
    "        print(group_count*(2*(group_size * empty) + 3*(gap_size * empty)))"
   ]
  },
  {
   "cell_type": "code",
   "execution_count": 4,
   "metadata": {},
   "outputs": [
    {
     "name": "stdout",
     "output_type": "stream",
     "text": [
      "**********\n",
      "*        *\n",
      "*        *\n",
      "*        *\n",
      "*        *\n",
      "*        *\n",
      "*        *\n",
      "*        *\n",
      "*        *\n",
      "**********\n"
     ]
    }
   ],
   "source": [
    "# empty square - pres if\n",
    "square_size = 10\n",
    "middle = \" \" * (square_size - 2)\n",
    "for row in range(square_size):  # [0, square_size)\n",
    "    # pokud my chceme vypsat prvni nebo posledni radek...\n",
    "    if row == 0 or row == square_size - 1:\n",
    "        print(square_size * \"*\")\n",
    "    else:  # jinak vypiseme prostredek\n",
    "        print(\"*\" + middle + \"*\")"
   ]
  }
 ],
 "metadata": {
  "kernelspec": {
   "display_name": "Python 3",
   "language": "python",
   "name": "python3"
  },
  "language_info": {
   "codemirror_mode": {
    "name": "ipython",
    "version": 3
   },
   "file_extension": ".py",
   "mimetype": "text/x-python",
   "name": "python",
   "nbconvert_exporter": "python",
   "pygments_lexer": "ipython3",
   "version": "3.12.5"
  }
 },
 "nbformat": 4,
 "nbformat_minor": 2
}
