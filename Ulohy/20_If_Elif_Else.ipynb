{
 "cells": [
  {
   "cell_type": "code",
   "execution_count": 4,
   "metadata": {},
   "outputs": [
    {
     "name": "stdout",
     "output_type": "stream",
     "text": [
      "Do konce dne zbyva 23.0 hodin, 58.0 minut a 59.0 sekund.\n"
     ]
    }
   ],
   "source": [
    "# Zadam cas v sekundach od zacatku dne, dostanu pocet hodin, minut a sekund zbyvajicich do pulnoci\n",
    "\n",
    "a = float(input(\"Zadejte cas od zacatku dne v sekundach: \"))\n",
    "Format = int(input(\"\"\"\n",
    "             Pro vystup v sekundach zadejte 1,\n",
    "             pro vystup v minutach a sekundach zadejte 2,\n",
    "             pro vystup v hodinach, minutach a sekundach zadejte 3.\n",
    "             \"\"\"))\n",
    "\n",
    "sek = 60*60*24 - a\n",
    "min = sek // 60\n",
    "sek_2 = sek - min * 60\n",
    "hod = min // 60\n",
    "min_2 = min - hod * 60\n",
    "\n",
    "if Format == 1:\n",
    "    print(f\"Do konce dne zbyva {sek} sekund.\")\n",
    "elif Format == 2:\n",
    "    print(f\"Do konce dne zbyva {min} minut a {sek_2} sekund.\")\n",
    "elif Format == 3:\n",
    "    print(f\"Do konce dne zbyva {hod} hodin, {min_2} minut a {sek_2} sekund.\")\n",
    "else:\n",
    "    print(\"Je nam lito, zadali jste jine cislo, nez je povoleno.\")"
   ]
  },
  {
   "cell_type": "code",
   "execution_count": 6,
   "metadata": {},
   "outputs": [
    {
     "name": "stdout",
     "output_type": "stream",
     "text": [
      "Celkova jedne konzole po sleve je 7225.0 Kč\n"
     ]
    }
   ],
   "source": [
    "# Zadejte cenu herni konzole, pocet konzoli a slevu,\n",
    "# Uzivatel rozhodne jestli chce vedet:\n",
    "# 1. Celkovou cenu objednavky\n",
    "# 2. Cenu jedne konzole\n",
    "\n",
    "Cena_1 = float(input(\"Zadejte cenu jedne konzole v korunach: \"))\n",
    "Pocet = int(input(\"Zadejte pocet kusu v objednavce:\"))\n",
    "Sleva = float(int(input(\"Zadejte slevu z objednavky v %:\")))\n",
    "\n",
    "Zobrazeni = int(input(\"\"\"\n",
    "Pro celkovou cenu objednavky zadejte 1,\n",
    "pro cenu jedne konzole po sleve zadejte 2.\n",
    "                      \"\"\"))\n",
    "\n",
    "if Zobrazeni == 1:\n",
    "    print(f\"Celkova cena objednavky je {Cena_1 * Pocet *(1- Sleva/100)} Kč\")\n",
    "elif Zobrazeni == 2:\n",
    "    print(f\"Celkova jedne konzole po sleve je {Cena_1 * (1-Sleva/100)} Kč\")\n",
    "else:\n",
    "    print(\"je nam lito, zadali jste nedefinovane cislo\")"
   ]
  }
 ],
 "metadata": {
  "kernelspec": {
   "display_name": "Python 3",
   "language": "python",
   "name": "python3"
  },
  "language_info": {
   "codemirror_mode": {
    "name": "ipython",
    "version": 3
   },
   "file_extension": ".py",
   "mimetype": "text/x-python",
   "name": "python",
   "nbconvert_exporter": "python",
   "pygments_lexer": "ipython3",
   "version": "3.12.5"
  }
 },
 "nbformat": 4,
 "nbformat_minor": 2
}
