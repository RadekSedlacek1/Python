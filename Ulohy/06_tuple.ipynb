{
 "cells": [
  {
   "cell_type": "code",
   "execution_count": null,
   "metadata": {},
   "outputs": [
    {
     "name": "stdout",
     "output_type": "stream",
     "text": [
      "Tuple 1: (1, 5, 9, 13, 17, 21, 25, 29, 33) \n",
      "Tuple 2: (1, 3, 5, 7, 9, 11, 13, 15)\n",
      "Tuple 3: (1, 2, 3, 4, 5, 6, 7, 8, 9)\n",
      "\n",
      "The common numbers to all tuples are [1, 5, 9].\n"
     ]
    }
   ],
   "source": [
    "# Module 6 Tuples, sets, dictionaries part 1, task 1:\n",
    "\n",
    "t1 = (1,5,9,13,17,21,25,29,33)\n",
    "t2 = (1,3,5,7,9,11,13,15)\n",
    "t3 = (1,2,3,4,5,6,7,8,9)\n",
    "\n",
    "print(f\"Tuple 1: {t1} \\nTuple 2: {t2}\\nTuple 3: {t3}\\n\")\n",
    "\n",
    "s1 = set (t1)\n",
    "s2 = set (t2)\n",
    "s3 = set (t3)\n",
    "\n",
    "# Operace na zjišťování přítomnosti prvku \"in\" je rychlejší v setu, než v tuple a nebo listu\n",
    "\n",
    "s4 = []\n",
    "for number in s1:\n",
    "    if number in s2 and number in s3:\n",
    "        s4.append(number)\n",
    "\n",
    "print(f\"The common numbers to all tuples are {s4}.\")\n",
    "\n",
    "\n"
   ]
  },
  {
   "cell_type": "code",
   "execution_count": null,
   "metadata": {},
   "outputs": [
    {
     "name": "stdout",
     "output_type": "stream",
     "text": [
      "Tuple 1: (1, 5, 9, 13, 17, 21, 25, 29, 33, 1, 5, 9, 13, 17, 21, 25, 29, 33, 1, 5, 9, 13, 17, 21, 25, 29, 33) \n",
      "Tuple 2: (1, 3, 5, 7, 9, 11, 13, 15, 5, 7, 5, 7, 5, 7, 5, 7, 5, 7)\n",
      "Tuple 3: (1, 2, 3, 4, 5, 6, 7, 8, 9, 7, 8, 9, 7, 8, 9, 7, 8, 9, 7, 8, 9, 7, 8, 9)\n",
      "\n",
      "Unique elements in tuple 1 are [17, 21, 25, 29, 33].\n",
      "Unique elements in tuple 2 are [11, 15].\n",
      "Unique elements in tuple 3 are [2, 4, 6, 8].\n"
     ]
    }
   ],
   "source": [
    "# Module 6 Tuples, sets, dictionaries part 1, task 2:\n",
    "\n",
    "t1 = (1,5,9,13,17,21,25,29,33,1,5,9,13,17,21,25,29,33,1,5,9,13,17,21,25,29,33)\n",
    "t2 = (1,3,5,7,9,11,13,15,5,7,5,7,5,7,5,7,5,7)\n",
    "t3 = (1,2,3,4,5,6,7,8,9,7,8,9,7,8,9,7,8,9,7,8,9,7,8,9)\n",
    "\n",
    "s0 = set(t1 + t2 + t3)\n",
    "\n",
    "s1 = set(t1)\n",
    "s2 = set(t2)\n",
    "s3 = set(t3)\n",
    "\n",
    "print(f\"Tuple 1: {t1} \\nTuple 2: {t2}\\nTuple 3: {t3}\\n\")\n",
    "\n",
    "l1 = list(s0 - s2 - s3)\n",
    "l1.sort()\n",
    "print(f\"Unique elements in tuple 1 are {l1}.\")\n",
    "\n",
    "l2 = list(s0 - s1 - s3)\n",
    "l2.sort()\n",
    "print(f\"Unique elements in tuple 2 are {l2}.\")\n",
    "\n",
    "l3 = list(s0 - s2 - s1)\n",
    "l3.sort()\n",
    "print(f\"Unique elements in tuple 3 are {l3}.\")"
   ]
  },
  {
   "cell_type": "code",
   "execution_count": null,
   "metadata": {},
   "outputs": [
    {
     "name": "stdout",
     "output_type": "stream",
     "text": [
      "Tuple 1: (1, 1, 1, 1, 2, 2, 2, 2, 3, 3, 3, 3) \n",
      "Tuple 2: (1, 2, 3, 4, 1, 2, 3, 4, 1, 2, 3, 4)\n",
      "Tuple 3: (1, 2, 1, 3, 1, 2, 1, 3, 1, 2, 3, 4)\n",
      "\n",
      "The three tuples the same values in each are: [1, 2, 3], on the positions [1, 6, 11].\n"
     ]
    }
   ],
   "source": [
    "# Module 6 Tuples, sets, dictionaries part 1, task 3:\n",
    "\n",
    "t1 = (1, 1, 1, 1, 2, 2, 2, 2, 3, 3, 3, 3)\n",
    "t2 = (1, 2, 3, 4, 1, 2, 3, 4, 1, 2, 3, 4)\n",
    "t3 = (1, 2, 1, 3, 1, 2, 1, 3, 1, 2, 3, 4)\n",
    "\n",
    "l4 = []\n",
    "l5 = []\n",
    "for index, element in enumerate(t1):\n",
    "    if element == t2[index] == t3[index]:\n",
    "        l4.append(element)\n",
    "        l5.append(index+1)\n",
    "\n",
    "print(f\"Tuple 1: {t1} \\nTuple 2: {t2}\\nTuple 3: {t3}\\n\")\n",
    "print(f\"The three tuples the same values in each are: {l4}, on the positions {l5}.\")\n"
   ]
  }
 ],
 "metadata": {
  "kernelspec": {
   "display_name": ".env",
   "language": "python",
   "name": "python3"
  },
  "language_info": {
   "codemirror_mode": {
    "name": "ipython",
    "version": 3
   },
   "file_extension": ".py",
   "mimetype": "text/x-python",
   "name": "python",
   "nbconvert_exporter": "python",
   "pygments_lexer": "ipython3",
   "version": "3.12.5"
  }
 },
 "nbformat": 4,
 "nbformat_minor": 2
}
