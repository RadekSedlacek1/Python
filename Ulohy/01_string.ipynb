{
 "cells": [
  {
   "cell_type": "code",
   "execution_count": 1,
   "metadata": {},
   "outputs": [
    {
     "name": "stdout",
     "output_type": "stream",
     "text": [
      "\n",
      "The new text witl small first character in eah sentence is: \n",
      "\n",
      " lorem 1 ipsum dolor sit amet, consectetuer adipiscing elit. etiam 2 ligula! pede, sagittis quis, interdum ultricies, scelerisque eu. nulla 3 accumsan, elit sit amet varius semper, nulla mauris mollis quam, tempor suscipit diam nulla vel leo. nullam dapibus fermentum 4 ipsum. sed elit dui, pellentesque a, faucibus vel, interdum nec, diam. fusce 5 consectetuer risus 1 2 3 a nunc. praesent id justo in neque elementum ultrices. cras elementum. in convallis. duis pulvinar. quisque porta. duis 6 ante orci, molestie vitae vehicula venenatis, tincidunt ac pede! Nulla 7 turpis magna, cursus sit amet, suscipit a, interdum id, felis. aliquam 8 ornare wisi eu metus. cras pede libero, dapibus nec, pretium sit amet, tempor quis. 7 8 9 Lorem ipsum dolor sit amet, consectetuer adipiscing elit. duis condimentum 9 augue id magna semper rutrum. cum sociis natoque penatibus et magnis dis parturient montes, nascetur ridiculus mus. etiam ligula pede, sagittis quis, interdum ultricies, scelerisque eu. nullam at arcu a est sollicitudin euismod\n",
      "\n",
      "Count of numbers in the text is: 15.\n",
      "\n",
      ". is in the text 20 times\n",
      ", is in the text 25 times\n",
      "! is in the text 2 times\n",
      "\n",
      "Totaly there are 47 characteristic symbols in the text.\n",
      "\n"
     ]
    }
   ],
   "source": [
    "text = \"\"\" Lorem 1 ipsum dolor sit amet, consectetuer adipiscing elit. Etiam 2 ligula! pede, sagittis quis, interdum ultricies, scelerisque eu. Nulla 3 accumsan, elit sit amet varius semper, nulla mauris mollis quam, tempor suscipit diam nulla vel leo. Nullam dapibus fermentum 4 ipsum. Sed elit dui, pellentesque a, faucibus vel, interdum nec, diam. Fusce 5 consectetuer risus 1 2 3 a nunc. Praesent id justo in neque elementum ultrices. Cras elementum. In convallis. Duis pulvinar. Quisque porta. Duis 6 ante orci, molestie vitae vehicula venenatis, tincidunt ac pede! Nulla 7 turpis magna, cursus sit amet, suscipit a, interdum id, felis. Aliquam 8 ornare wisi eu metus. Cras pede libero, dapibus nec, pretium sit amet, tempor quis. 7 8 9 Lorem ipsum dolor sit amet, consectetuer adipiscing elit. Duis condimentum 9 augue id magna semper rutrum. Cum sociis natoque penatibus et magnis dis parturient montes, nascetur ridiculus mus. Etiam ligula pede, sagittis quis, interdum ultricies, scelerisque eu. Nullam at arcu a est sollicitudin euismod..\"\"\"\n",
    "\n",
    "# STRINGS. LIST. PART 2. TASK 1.\n",
    "\n",
    "# Cast a)\n",
    "\n",
    "new_text_list = []\n",
    "\n",
    "sentences = text.split(\".\")\n",
    "\n",
    "for i, sentence in enumerate(sentences):\n",
    "\n",
    "    if sentence:\n",
    "        sentence = sentence.lstrip()\n",
    "        sentence = sentence[0].lower() + sentence[1:]\n",
    "        new_text_list.append(sentence)\n",
    "\n",
    "new_text_list = \". \".join(new_text_list)\n",
    "\n",
    "# print(type(new_text_list))\n",
    "print(f\"\\nThe new text witl small first character in eah sentence is: \\n\\n {new_text_list}\\n\")\n",
    "\n",
    "# Cast b)\n",
    "\n",
    "numbers = 0\n",
    "for i in range(0,10):\n",
    "    numbers = numbers + text.count(str(i))\n",
    "\n",
    "print(f\"Count of numbers in the text is: {numbers}.\\n\")\n",
    "\n",
    "# Cast c)\n",
    "\n",
    "symbols = 0\n",
    "characters = [\".\", \",\", \"!\"]\n",
    "for sym in characters:\n",
    "    print(f\"{sym} is in the text {text.count(sym)} times\")\n",
    "    symbols = symbols + text.count(sym)\n",
    "print(f\"\\nTotaly there are {symbols} characteristic symbols in the text.\\n\")"
   ]
  }
 ],
 "metadata": {
  "kernelspec": {
   "display_name": "Python 3",
   "language": "python",
   "name": "python3"
  },
  "language_info": {
   "codemirror_mode": {
    "name": "ipython",
    "version": 3
   },
   "file_extension": ".py",
   "mimetype": "text/x-python",
   "name": "python",
   "nbconvert_exporter": "python",
   "pygments_lexer": "ipython3",
   "version": "3.12.5"
  }
 },
 "nbformat": 4,
 "nbformat_minor": 2
}
