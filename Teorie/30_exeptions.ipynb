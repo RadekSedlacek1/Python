{
 "cells": [
  {
   "cell_type": "markdown",
   "metadata": {},
   "source": [
    "# Exeptions\n",
    "### Způsob jak se vypořádat s chybami při zpracování kódu, které by jinak vedli k jeho zastavení"
   ]
  },
  {
   "cell_type": "markdown",
   "metadata": {},
   "source": [
    "## Typy výjimek"
   ]
  },
  {
   "cell_type": "markdown",
   "metadata": {},
   "source": [
    "### try... except"
   ]
  },
  {
   "cell_type": "code",
   "execution_count": 1,
   "metadata": {},
   "outputs": [
    {
     "name": "stdout",
     "output_type": "stream",
     "text": [
      "Got your number!\n"
     ]
    }
   ],
   "source": [
    "a = int(input(\"Put in a number:\"))\n",
    "print('Got your number!')"
   ]
  },
  {
   "cell_type": "code",
   "execution_count": 2,
   "metadata": {},
   "outputs": [
    {
     "name": "stdout",
     "output_type": "stream",
     "text": [
      "Got your number!\n"
     ]
    }
   ],
   "source": [
    "try:\n",
    "    a = int(input(\"Put in a number:\"))\n",
    "    print('Got your number!')\n",
    "except ValueError:\n",
    "    print(\"Your number should be an integer!\")"
   ]
  },
  {
   "cell_type": "code",
   "execution_count": 3,
   "metadata": {},
   "outputs": [
    {
     "name": "stdout",
     "output_type": "stream",
     "text": [
      "Got your number!\n",
      "This piece of code here will be executed in any case\n",
      "The code after try except\n"
     ]
    }
   ],
   "source": [
    "\n",
    "try:\n",
    "    # try running\n",
    "    a = int(input(\"Put in a integer:\"))\n",
    "    print('Got your number!')\n",
    "except ValueError:\n",
    "    # if there is an error, do this\n",
    "    print(\"Your number should be an integer!\")\n",
    "finally:\n",
    "    # will run in any case\n",
    "    # save b variable\n",
    "    print('This piece of code here will be executed in any case')\n",
    "print(\"The code after try except\")"
   ]
  },
  {
   "cell_type": "markdown",
   "metadata": {},
   "source": [
    "## Kombinace vyjímek\n",
    "Můžeme zadávat více podmínek, ale musí být seřazeny od specifických po obecné. Jinak by existoval část kódu, který není dosažitelný."
   ]
  },
  {
   "cell_type": "code",
   "execution_count": 4,
   "metadata": {},
   "outputs": [
    {
     "name": "stdout",
     "output_type": "stream",
     "text": [
      "Got your number!\n",
      "c is 0 . Division by zero is not allowed.\n"
     ]
    }
   ],
   "source": [
    "try:\n",
    "    a = int(input(\"Put in a number:\"))\n",
    "    print('Got your number!')\n",
    "    c = 0\n",
    "    b = a / c\n",
    "    print('b is:', b)\n",
    "except ValueError:\n",
    "    print(\"Your number should be an integer!\")\n",
    "except ZeroDivisionError:\n",
    "    print(\"c is\", c, \". Division by zero is not allowed.\")"
   ]
  },
  {
   "cell_type": "markdown",
   "metadata": {},
   "source": [
    "Chyby by neměly být opomenuty\n",
    "\n",
    "- Informace o nastolení výjimky je užitečné ukládat do logu pro pozdější opravu.\n",
    "- Pokud se jedná o častou chybu, vyřeště ji jinak, než výjimkou.\n",
    "- Pokud se jedná o exotickou výjimku, je lépe ji nezachytávat. POkd zachytím, musím logovat"
   ]
  },
  {
   "cell_type": "markdown",
   "metadata": {},
   "source": [
    "## Vyvolání výjimky"
   ]
  },
  {
   "cell_type": "code",
   "execution_count": null,
   "metadata": {},
   "outputs": [],
   "source": [
    "a = int(input(\"Put in a number between 5 and 10:\"))\n",
    "if not 5 < a < 10:\n",
    "    raise ValueError(f\"You number should be between 5 and 10, but was actually {a}\")    \n",
    "print('Got your number! Your number is', a)"
   ]
  },
  {
   "cell_type": "markdown",
   "metadata": {},
   "source": [
    "## K výjimce patří nějaký kontext!"
   ]
  },
  {
   "cell_type": "code",
   "execution_count": null,
   "metadata": {},
   "outputs": [],
   "source": [
    "try:\n",
    "    a = input(\"Put in an integer number:\")\n",
    "    a = int(a)\n",
    "    print('Got your number!')\n",
    "except ValueError:\n",
    "    raise ValueError(f\"Your number should be an integer, but {a} was given and could not be converted!\")\n"
   ]
  },
  {
   "cell_type": "code",
   "execution_count": 9,
   "metadata": {},
   "outputs": [
    {
     "name": "stdout",
     "output_type": "stream",
     "text": [
      "Okay, it is not an int\n"
     ]
    }
   ],
   "source": [
    "try:\n",
    "    a = input(\"Put in an integer number:\")\n",
    "    a = int(a)\n",
    "    print('Got your number!')\n",
    "except ValueError as error: \n",
    "    print('Okay, it is not an int')\n",
    "    try:\n",
    "        a = float(a)\n",
    "    except: \n",
    "        raise error"
   ]
  },
  {
   "cell_type": "markdown",
   "metadata": {},
   "source": [
    "## Vynucení správného vstupu po uživateli\n",
    "Vyjímky lze vložit do cyklu, např. while. Tím když uživatel zadá např. špatný datový formát, tak můžu vypsat zprávu - Hej, špatně jsi to napsal, nevím co dělat, a dát mu druhu šanci. Tím nepřijdu o veškerou práci do tohoto bodu - nemusím spustit program znovu. "
   ]
  },
  {
   "cell_type": "code",
   "execution_count": 11,
   "metadata": {},
   "outputs": [
    {
     "name": "stdout",
     "output_type": "stream",
     "text": [
      "Okay, it is not an int\n",
      "Okay, it is not an int\n",
      "Okay, it is not an int\n",
      "Okay, it is not an int\n",
      "Got your number!\n",
      "You have input a number!\n"
     ]
    }
   ],
   "source": [
    "flag_to_continue = True\n",
    "while flag_to_continue:\n",
    "    try: \n",
    "        a = input(\"Put in an integer number:\")\n",
    "        a = int(a)\n",
    "        print('Got your number!')\n",
    "        flag_to_continue = False\n",
    "    except ValueError as error: \n",
    "        print('Okay, it is not an int')\n",
    "print(\"You have input a number!\")"
   ]
  }
 ],
 "metadata": {
  "kernelspec": {
   "display_name": "Python 3",
   "language": "python",
   "name": "python3"
  },
  "language_info": {
   "codemirror_mode": {
    "name": "ipython",
    "version": 3
   },
   "file_extension": ".py",
   "mimetype": "text/x-python",
   "name": "python",
   "nbconvert_exporter": "python",
   "pygments_lexer": "ipython3",
   "version": "3.12.5"
  }
 },
 "nbformat": 4,
 "nbformat_minor": 2
}
