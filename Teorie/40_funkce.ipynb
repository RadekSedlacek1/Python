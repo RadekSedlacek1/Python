{
 "cells": [
  {
   "cell_type": "markdown",
   "metadata": {},
   "source": [
    "# Funkce"
   ]
  },
  {
   "cell_type": "markdown",
   "metadata": {},
   "source": [
    "Volatelné jsou:\n",
    "\n",
    "* Funkce  len(), print()\n",
    "\n",
    "* Třídy   callable class: enumerate, zip\n",
    "\n",
    "* Metody  .split(), __ call __,\n",
    "\n",
    "Pokud je naiplementovaná metoda __ call __, jedná se o funkci.\n",
    "Metody se volají na objekty. Lze je použít na nějaký typ objektu. Obecné zabudované funkce lze zavolat kdykoli."
   ]
  },
  {
   "cell_type": "markdown",
   "metadata": {},
   "source": [
    "## Vlastní funkce vytvořím klíčovým slovem def"
   ]
  },
  {
   "cell_type": "code",
   "execution_count": 1,
   "metadata": {},
   "outputs": [
    {
     "name": "stdout",
     "output_type": "stream",
     "text": [
      "12.0\n",
      "<class 'NoneType'> None\n",
      "95.9090909090909\n",
      "148.0\n",
      "20.0\n"
     ]
    }
   ],
   "source": [
    "def obvod_trojuhelniku(par1,par2,par3):\n",
    "    z = float(2 * (par1 + par2 + par3))     # Tělo funkce\n",
    "    return print(z)                         # Označuje konec funkce, není nutný\n",
    "\n",
    "a = obvod_trojuhelniku(1,2,3)\n",
    "print(type(a),a)\n",
    "\n",
    "def compute_mean_value(values):\n",
    "    sum_ = 0\n",
    "    len_ = 0\n",
    "    for val in values:\n",
    "        sum_+=val\n",
    "        len_+=1\n",
    "    mean_ = sum_/len_\n",
    "    return print(mean_)\n",
    "\n",
    "compute_mean_value([1, 2, 3, 4, 5, 6, 7, 8, 9, 10, 1000 ]) \n",
    "\n",
    "# nebo lze do funkcí zadávat hodnoty podle jména, lze i kombinovat. Pokud předám už jeden parametr podle jména, tak pak už může následovat jen parametry podle jména.\n",
    "\n",
    "obv = obvod_trojuhelniku( par3 = 15, par2=4, par1=55)\n",
    "obv_2 = obvod_trojuhelniku(1,5,4)\n"
   ]
  }
 ],
 "metadata": {
  "kernelspec": {
   "display_name": "Python 3",
   "language": "python",
   "name": "python3"
  },
  "language_info": {
   "codemirror_mode": {
    "name": "ipython",
    "version": 3
   },
   "file_extension": ".py",
   "mimetype": "text/x-python",
   "name": "python",
   "nbconvert_exporter": "python",
   "pygments_lexer": "ipython3",
   "version": "3.12.5"
  }
 },
 "nbformat": 4,
 "nbformat_minor": 2
}
