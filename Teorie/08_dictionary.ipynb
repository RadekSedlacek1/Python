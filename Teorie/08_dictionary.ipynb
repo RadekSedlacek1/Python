{
 "cells": [
  {
   "cell_type": "markdown",
   "metadata": {},
   "source": [
    "# Dictionary\n",
    "### Datový typ: Slovník"
   ]
  },
  {
   "cell_type": "markdown",
   "metadata": {},
   "source": [
    "* Klic : hodnota\n",
    "\n",
    "* Operaci zjištění hodnoty pro daný klíč umí časově efektivně.\n",
    "\n",
    "* Nelze rychle hledat podle hodnoty a protože je to blbost, python se na mě bude dívat skrz prsty. Umožní mi jen se dívat na klíče. Obráceně mi vrací vyjímku.\n",
    "\n",
    "* Klíč musí mít hash - v klíči můžou být jen neměnné prvky.\n",
    "\n",
    "* Klíč může být klidně funkce, nebo metoda - mají hash.\n",
    "\n",
    "* Pomocí \"in\" můžeme zjišťovat zda je klíč v dictu, ale nedá nám hodnotu.\n",
    "\n",
    "* Když se snažím přidat prvek, který už v dictu je, tak přepíšu hodnotu.\n",
    "\n",
    "* Můžu přidávat prvky na index, který zatím neexistuje.\n",
    "\n",
    "* Nemá pořadí, musím se odkazovat pomocí jména klíče.\n",
    "\n",
    "* Pokud chci iterovat, vytvořím si list klíčů příkazem \n",
    "\n",
    "* For klic in d.keys(): jiné metody values(), get()..."
   ]
  },
  {
   "cell_type": "code",
   "execution_count": 11,
   "metadata": {},
   "outputs": [
    {
     "data": {
      "text/plain": [
       "'one'"
      ]
     },
     "execution_count": 11,
     "metadata": {},
     "output_type": "execute_result"
    }
   ],
   "source": [
    "d = {\n",
    "    1: \"one\",   # klic: hodnota\n",
    "    2: \"two\", \n",
    "    3: \"three\"\n",
    "}\n",
    "d[4] = \"four\"  # pridani noveho klice\n",
    "d[1]"
   ]
  },
  {
   "cell_type": "code",
   "execution_count": 3,
   "metadata": {},
   "outputs": [
    {
     "data": {
      "text/plain": [
       "{(1, 2): 1}"
      ]
     },
     "execution_count": 3,
     "metadata": {},
     "output_type": "execute_result"
    }
   ],
   "source": [
    "d = {\n",
    "    (1, 2): 1\n",
    "}\n",
    "d"
   ]
  },
  {
   "cell_type": "code",
   "execution_count": 4,
   "metadata": {},
   "outputs": [
    {
     "name": "stdout",
     "output_type": "stream",
     "text": [
      "Ahoj!\n"
     ]
    }
   ],
   "source": [
    "# Ve slovníku jako hodnotu můžu mít klidně funkci:\n",
    "d_func = {\n",
    "    \"length\": len,\n",
    "    \"print\": print\n",
    "}\n",
    "d_func[\"print\"](\"Ahoj!\")"
   ]
  },
  {
   "cell_type": "code",
   "execution_count": 5,
   "metadata": {},
   "outputs": [
    {
     "data": {
      "text/plain": [
       "(True, False)"
      ]
     },
     "execution_count": 5,
     "metadata": {},
     "output_type": "execute_result"
    }
   ],
   "source": [
    "#Dotaz na klíč ve slovníku\n",
    "\"print\" in d_func, \"show\" in d_func"
   ]
  },
  {
   "cell_type": "code",
   "execution_count": 6,
   "metadata": {},
   "outputs": [
    {
     "data": {
      "text/plain": [
       "(7803226802024125630, -7395759844489997475)"
      ]
     },
     "execution_count": 6,
     "metadata": {},
     "output_type": "execute_result"
    }
   ],
   "source": [
    "# Prvky dictu mnají hash\n",
    "\"length\".__hash__(), \"print\".__hash__()"
   ]
  },
  {
   "cell_type": "code",
   "execution_count": 14,
   "metadata": {},
   "outputs": [
    {
     "name": "stdout",
     "output_type": "stream",
     "text": [
      "dict_keys([1, 2, 3, 4])\n"
     ]
    }
   ],
   "source": [
    "print(d.keys())"
   ]
  },
  {
   "cell_type": "code",
   "execution_count": 13,
   "metadata": {},
   "outputs": [
    {
     "data": {
      "text/plain": [
       "[1, 2, 3, 4]"
      ]
     },
     "execution_count": 13,
     "metadata": {},
     "output_type": "execute_result"
    }
   ],
   "source": [
    "list(d.keys())"
   ]
  },
  {
   "cell_type": "code",
   "execution_count": 15,
   "metadata": {},
   "outputs": [
    {
     "name": "stdout",
     "output_type": "stream",
     "text": [
      "1\n",
      "2\n",
      "3\n",
      "4\n"
     ]
    }
   ],
   "source": [
    "for klic in d:\n",
    "    print(klic)"
   ]
  },
  {
   "cell_type": "code",
   "execution_count": 16,
   "metadata": {},
   "outputs": [
    {
     "name": "stdout",
     "output_type": "stream",
     "text": [
      "1 one\n",
      "2 two\n",
      "3 three\n",
      "4 four\n"
     ]
    }
   ],
   "source": [
    "for klic in d.keys():\n",
    "    print(klic, d[klic])"
   ]
  },
  {
   "cell_type": "code",
   "execution_count": 17,
   "metadata": {},
   "outputs": [
    {
     "name": "stdout",
     "output_type": "stream",
     "text": [
      "one\n",
      "two\n",
      "three\n",
      "four\n"
     ]
    }
   ],
   "source": [
    "for hodnota in d.values():\n",
    "    print(hodnota)"
   ]
  },
  {
   "cell_type": "code",
   "execution_count": 18,
   "metadata": {},
   "outputs": [
    {
     "name": "stdout",
     "output_type": "stream",
     "text": [
      "1 one\n",
      "2 two\n",
      "3 three\n",
      "4 four\n"
     ]
    }
   ],
   "source": [
    "for (klic, hodnota) in d.items():\n",
    "    print(klic, hodnota)"
   ]
  }
 ],
 "metadata": {
  "kernelspec": {
   "display_name": "Python 3",
   "language": "python",
   "name": "python3"
  },
  "language_info": {
   "codemirror_mode": {
    "name": "ipython",
    "version": 3
   },
   "file_extension": ".py",
   "mimetype": "text/x-python",
   "name": "python",
   "nbconvert_exporter": "python",
   "pygments_lexer": "ipython3",
   "version": "3.12.5"
  }
 },
 "nbformat": 4,
 "nbformat_minor": 2
}
