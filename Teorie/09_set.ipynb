{
 "cells": [
  {
   "cell_type": "markdown",
   "metadata": {},
   "source": [
    "# Set\n",
    "### datový typ: množina"
   ]
  },
  {
   "cell_type": "markdown",
   "metadata": {},
   "source": [
    "* Set nemá definované pořadí - nelze se na něj spolehnout.\n",
    "\n",
    "* Některé operace na setu jsou rychlejší, když procesor nemusí udržovat seřazení, například zjišťování zda ten prvek tam je a nebo ne.\n",
    "\n",
    "* Ukládá do sebe pouze unikátní prvky, neuloží do sebe stejný prvek dvakrát - proto když do něj uložím list, tak dostanu všechny unikátní prvky listu.\n",
    "\n",
    "* Pro set fungují booleovské operace.\n",
    "\n",
    "* Set neumoznuje zaznamenat do sebe vsechny datove typy.\n",
    "\n",
    "* Prvek v setu musi bych hashovatelný."
   ]
  },
  {
   "cell_type": "code",
   "execution_count": 1,
   "metadata": {},
   "outputs": [
    {
     "data": {
      "text/plain": [
       "{1, 2, 3, 4, 4.5, 6}"
      ]
     },
     "execution_count": 1,
     "metadata": {},
     "output_type": "execute_result"
    }
   ],
   "source": [
    "s = {3, 1, 2, 4, 6, 4.5}\n",
    "s"
   ]
  },
  {
   "cell_type": "code",
   "execution_count": 2,
   "metadata": {},
   "outputs": [
    {
     "ename": "TypeError",
     "evalue": "'set' object is not subscriptable",
     "output_type": "error",
     "traceback": [
      "\u001b[1;31m---------------------------------------------------------------------------\u001b[0m",
      "\u001b[1;31mTypeError\u001b[0m                                 Traceback (most recent call last)",
      "Cell \u001b[1;32mIn[2], line 1\u001b[0m\n\u001b[1;32m----> 1\u001b[0m \u001b[43ms\u001b[49m\u001b[43m[\u001b[49m\u001b[38;5;241;43m0\u001b[39;49m\u001b[43m]\u001b[49m  \u001b[38;5;66;03m# indexovani nejde\u001b[39;00m\n",
      "\u001b[1;31mTypeError\u001b[0m: 'set' object is not subscriptable"
     ]
    }
   ],
   "source": [
    "s[0]  # indexovani nejde"
   ]
  },
  {
   "cell_type": "code",
   "execution_count": 3,
   "metadata": {},
   "outputs": [
    {
     "data": {
      "text/plain": [
       "<set_iterator at 0x195e7920ec0>"
      ]
     },
     "execution_count": 3,
     "metadata": {},
     "output_type": "execute_result"
    }
   ],
   "source": [
    "iter(s)"
   ]
  },
  {
   "cell_type": "code",
   "execution_count": 4,
   "metadata": {},
   "outputs": [
    {
     "name": "stdout",
     "output_type": "stream",
     "text": [
      "1\n",
      "2\n",
      "3\n",
      "4\n",
      "4.5\n",
      "6\n"
     ]
    }
   ],
   "source": [
    "for prvek in s:  # je to ale iterable\n",
    "    print(prvek)"
   ]
  },
  {
   "cell_type": "code",
   "execution_count": 5,
   "metadata": {},
   "outputs": [
    {
     "data": {
      "text/plain": [
       "set"
      ]
     },
     "execution_count": 5,
     "metadata": {},
     "output_type": "execute_result"
    }
   ],
   "source": [
    "empty_set = set()  # NOT {}\n",
    "type(empty_set)"
   ]
  },
  {
   "cell_type": "code",
   "execution_count": 8,
   "metadata": {},
   "outputs": [
    {
     "name": "stdout",
     "output_type": "stream",
     "text": [
      "<class 'set'> {1}\n"
     ]
    }
   ],
   "source": [
    "# Každý prvek je unikátní - jen jednou v setu\n",
    "p = {1, 1, 1, 1, 1, 1}\n",
    "print(type(p),p)"
   ]
  },
  {
   "cell_type": "markdown",
   "metadata": {},
   "source": [
    "## Booleovské operace"
   ]
  },
  {
   "cell_type": "code",
   "execution_count": 9,
   "metadata": {},
   "outputs": [
    {
     "name": "stdout",
     "output_type": "stream",
     "text": [
      "{1, 2, 5} {9, 2, 6, 7}\n",
      "Intersection: {2} {2}\n",
      "Union: {1, 2, 5, 6, 7, 9} {1, 2, 5, 6, 7, 9}\n",
      "Difference: {1, 5} {9, 6, 7}\n",
      "Symmetric difference: {1, 5, 6, 7, 9}\n"
     ]
    }
   ],
   "source": [
    "set1 = {1, 2, 5}\n",
    "set2 = {2, 7, 9, 6}\n",
    "print(set1, set2)\n",
    "print(\"Intersection:\", set1 & set2, set1.intersection(set2))\n",
    "print(\"Union:\", set1 | set2, set1.union(set2))\n",
    "print(\"Difference:\", set1 - set2, set2 - set1)\n",
    "print(\"Symmetric difference:\", set1 ^ set2)"
   ]
  },
  {
   "cell_type": "markdown",
   "metadata": {},
   "source": [
    "## Operace na set, které jsou rychlejší, než list"
   ]
  },
  {
   "cell_type": "code",
   "execution_count": 10,
   "metadata": {},
   "outputs": [
    {
     "name": "stdout",
     "output_type": "stream",
     "text": [
      "0.06686759999138303  sec\n",
      "3.2944355999934487  sec\n"
     ]
    }
   ],
   "source": [
    "import timeit\n",
    "s = set(range(10000))\n",
    "l = list(s)\n",
    "print(timeit.timeit(lambda: 500 in s, number=int(1000000)), ' sec')\n",
    "print(timeit.timeit(lambda: 500 in l, number=int(1000000)), ' sec')\n"
   ]
  }
 ],
 "metadata": {
  "kernelspec": {
   "display_name": "Python 3",
   "language": "python",
   "name": "python3"
  },
  "language_info": {
   "codemirror_mode": {
    "name": "ipython",
    "version": 3
   },
   "file_extension": ".py",
   "mimetype": "text/x-python",
   "name": "python",
   "nbconvert_exporter": "python",
   "pygments_lexer": "ipython3",
   "version": "3.12.5"
  }
 },
 "nbformat": 4,
 "nbformat_minor": 2
}
