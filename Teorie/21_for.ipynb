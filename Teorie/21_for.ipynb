{
 "cells": [
  {
   "cell_type": "markdown",
   "metadata": {},
   "source": [
    "# For\n",
    "### Cyklus prováděný pro určitý počet prvků (iterables)"
   ]
  },
  {
   "cell_type": "markdown",
   "metadata": {},
   "source": [
    "## String"
   ]
  },
  {
   "cell_type": "code",
   "execution_count": 1,
   "metadata": {},
   "outputs": [
    {
     "name": "stdout",
     "output_type": "stream",
     "text": [
      "T\n",
      "e\n",
      "x\n",
      "t\n"
     ]
    }
   ],
   "source": [
    "message = \"Text\"\n",
    "\n",
    "for element in message:\n",
    "    print(element)"
   ]
  },
  {
   "cell_type": "markdown",
   "metadata": {},
   "source": [
    "## List"
   ]
  },
  {
   "cell_type": "code",
   "execution_count": 2,
   "metadata": {},
   "outputs": [
    {
     "name": "stdout",
     "output_type": "stream",
     "text": [
      "Karel\n",
      "Martina\n",
      "Monika\n"
     ]
    }
   ],
   "source": [
    "Teachers = [\"karel\", \"martina\", \"monika\"]\n",
    "\n",
    "for element in Teachers:\n",
    "    print(str(element).capitalize())"
   ]
  },
  {
   "cell_type": "markdown",
   "metadata": {},
   "source": [
    "## Range"
   ]
  },
  {
   "cell_type": "code",
   "execution_count": 3,
   "metadata": {},
   "outputs": [
    {
     "name": "stdout",
     "output_type": "stream",
     "text": [
      "Factorial of the given number 10 is 3628800 \n"
     ]
    }
   ],
   "source": [
    "number = int(input(\"Type in the number, to calculate its factorial\"))\n",
    "\n",
    "n = 1\n",
    "for i in range(1,number +1):\n",
    "    n *= i\n",
    "\n",
    "print(f\"Factorial of the given number {number} is {n} \")"
   ]
  },
  {
   "cell_type": "markdown",
   "metadata": {},
   "source": [
    "## Enumerate"
   ]
  },
  {
   "cell_type": "code",
   "execution_count": 5,
   "metadata": {},
   "outputs": [
    {
     "name": "stdout",
     "output_type": "stream",
     "text": [
      "The team from Czechia finished on the 0 position\n",
      "The team from Canada finished on the 1 position\n",
      "The team from Sweeden finished on the 2 position\n",
      "The team from Chroatia finished on the 3 position\n"
     ]
    }
   ],
   "source": [
    "Teams = [\"Czechia\", \"Canada\", \"Sweeden\", \"Chroatia\"]\n",
    "\n",
    "for index, element in enumerate(Teams):\n",
    "    print(f\"The team from {element} finished on the {index} position\")"
   ]
  }
 ],
 "metadata": {
  "kernelspec": {
   "display_name": "Python 3",
   "language": "python",
   "name": "python3"
  },
  "language_info": {
   "codemirror_mode": {
    "name": "ipython",
    "version": 3
   },
   "file_extension": ".py",
   "mimetype": "text/x-python",
   "name": "python",
   "nbconvert_exporter": "python",
   "pygments_lexer": "ipython3",
   "version": "3.12.5"
  }
 },
 "nbformat": 4,
 "nbformat_minor": 2
}
