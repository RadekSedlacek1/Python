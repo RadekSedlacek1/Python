{
 "cells": [
  {
   "cell_type": "markdown",
   "metadata": {},
   "source": [
    "# Integer\n",
    "## celá čísla, x = int(y)"
   ]
  },
  {
   "cell_type": "code",
   "execution_count": 8,
   "metadata": {},
   "outputs": [
    {
     "name": "stdout",
     "output_type": "stream",
     "text": [
      "Soucet: 9 + 2 je: 11\n",
      "Rozdil: 9 - 2 je: 7\n",
      "Soucin: 9 * 2 je: 18\n",
      "Podil: 9 / 2 je: 4.5\n",
      "Exponent: 9 ^ 2 je: 81\n",
      "Celociselny podil: 9 // 2 je: 4\n",
      "Zbytek po deleni: 9 % 2 je: 1\n"
     ]
    }
   ],
   "source": [
    "a = 9\n",
    "b = 2\n",
    "\n",
    "soucet = a + b\n",
    "rozdil = a - b\n",
    "soucin = a * b\n",
    "podil = a / b\n",
    "exponent = a ** b\n",
    "celociselny_podil = a // b\n",
    "modulo = a % b\n",
    "\n",
    "print(\"Soucet:\", a,\"+\", b, \"je:\", soucet)\n",
    "print(\"Rozdil:\", a,\"-\", b, \"je:\", rozdil)\n",
    "print(\"Soucin:\", a,\"*\", b, \"je:\", soucin)\n",
    "print(\"Podil:\", a,\"/\", b, \"je:\", podil)\n",
    "print(\"Exponent:\", a,\"^\", b, \"je:\", exponent)\n",
    "print(\"Celociselny podil:\", a,\"//\", b, \"je:\", celociselny_podil)\n",
    "print(\"Zbytek po deleni:\", a,\"%\", b, \"je:\", modulo)"
   ]
  }
 ],
 "metadata": {
  "kernelspec": {
   "display_name": ".env",
   "language": "python",
   "name": "python3"
  },
  "language_info": {
   "codemirror_mode": {
    "name": "ipython",
    "version": 3
   },
   "file_extension": ".py",
   "mimetype": "text/x-python",
   "name": "python",
   "nbconvert_exporter": "python",
   "pygments_lexer": "ipython3",
   "version": "3.12.5"
  }
 },
 "nbformat": 4,
 "nbformat_minor": 2
}
