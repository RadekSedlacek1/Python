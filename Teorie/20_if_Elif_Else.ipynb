{
 "cells": [
  {
   "cell_type": "markdown",
   "metadata": {},
   "source": [
    "# If Elif Else"
   ]
  },
  {
   "cell_type": "markdown",
   "metadata": {},
   "source": [
    "## Podmínky if:\n",
    "daná větev If bloku se vykoná, pokud podmínka je splněná - výsledek dané operace vrací booleovskou hodnotu True "
   ]
  },
  {
   "cell_type": "markdown",
   "metadata": {},
   "source": [
    "## Základní zápis\n",
    "### Pozor na odsazení !!!"
   ]
  },
  {
   "cell_type": "code",
   "execution_count": null,
   "metadata": {},
   "outputs": [],
   "source": [
    "a = 1\n",
    "b = 2\n",
    "print('Before the condition')\n",
    "if a == b:\n",
    "    print('a equals b')\n",
    "print('After the condition')"
   ]
  },
  {
   "cell_type": "code",
   "execution_count": 1,
   "metadata": {},
   "outputs": [
    {
     "name": "stdout",
     "output_type": "stream",
     "text": [
      "a equals b\n",
      "After condition\n"
     ]
    }
   ],
   "source": [
    "a = 1\n",
    "b = 1\n",
    "if a == b:\n",
    "    print('a equals b')\n",
    "else:\n",
    "    print('a does not equal b')\n",
    "print(\"After condition\")"
   ]
  },
  {
   "cell_type": "code",
   "execution_count": 3,
   "metadata": {},
   "outputs": [
    {
     "name": "stdout",
     "output_type": "stream",
     "text": [
      "a equals c\n"
     ]
    }
   ],
   "source": [
    "a = 1\n",
    "b = 2\n",
    "c = 1\n",
    "if a == b:\n",
    "    print('a equals b')\n",
    "elif a == c:\n",
    "    print('a equals c')\n",
    "else:\n",
    "    print('a equals neither b nor c')"
   ]
  },
  {
   "cell_type": "code",
   "execution_count": 4,
   "metadata": {},
   "outputs": [
    {
     "name": "stdout",
     "output_type": "stream",
     "text": [
      "Inside comparison 1\n",
      "Inside comparison 2\n"
     ]
    }
   ],
   "source": [
    "a = 1\n",
    "b = 1\n",
    "c = 2\n",
    "if a == b:\n",
    "    print(\"Inside comparison 1\")\n",
    "    a = 2\n",
    "if a == c:\n",
    "    print(\"Inside comparison 2\")"
   ]
  },
  {
   "cell_type": "markdown",
   "metadata": {},
   "source": [
    "## Dvojitá podmínka"
   ]
  },
  {
   "cell_type": "code",
   "execution_count": 5,
   "metadata": {},
   "outputs": [
    {
     "name": "stdout",
     "output_type": "stream",
     "text": [
      "a is in range!\n"
     ]
    }
   ],
   "source": [
    "a = 10\n",
    "if a > 0 and a < 20:\n",
    "    print(\"a is in range!\")"
   ]
  },
  {
   "cell_type": "code",
   "execution_count": 6,
   "metadata": {},
   "outputs": [
    {
     "name": "stdout",
     "output_type": "stream",
     "text": [
      "a is still in range!\n"
     ]
    }
   ],
   "source": [
    "if 0 < a < 20:\n",
    "    print('a is still in range!')"
   ]
  },
  {
   "cell_type": "markdown",
   "metadata": {},
   "source": [
    "## \"Nestování podmínek\" - vkládání do sebe"
   ]
  },
  {
   "cell_type": "code",
   "execution_count": 7,
   "metadata": {},
   "outputs": [
    {
     "name": "stdout",
     "output_type": "stream",
     "text": [
      "C\n"
     ]
    }
   ],
   "source": [
    "# Valid, but not cool\n",
    "letter = 'C'\n",
    "if letter == 'A':\n",
    "    print('A')\n",
    "else:\n",
    "    if letter == 'B':\n",
    "        print('B')\n",
    "    else:\n",
    "        if letter == 'C':\n",
    "            print('C')\n",
    "        else:\n",
    "            if letter == 'D':\n",
    "                print('D')"
   ]
  },
  {
   "cell_type": "code",
   "execution_count": 8,
   "metadata": {},
   "outputs": [
    {
     "name": "stdout",
     "output_type": "stream",
     "text": [
      "C\n"
     ]
    }
   ],
   "source": [
    "# Valid and cool\n",
    "letter = 'C'\n",
    "if letter == 'A':\n",
    "    print('A')\n",
    "elif letter == 'B':\n",
    "    print('B')\n",
    "elif letter == 'C':\n",
    "    print('C')\n",
    "elif letter == 'D':\n",
    "    print('D')"
   ]
  }
 ],
 "metadata": {
  "kernelspec": {
   "display_name": "Python 3",
   "language": "python",
   "name": "python3"
  },
  "language_info": {
   "codemirror_mode": {
    "name": "ipython",
    "version": 3
   },
   "file_extension": ".py",
   "mimetype": "text/x-python",
   "name": "python",
   "nbconvert_exporter": "python",
   "pygments_lexer": "ipython3",
   "version": "3.12.5"
  }
 },
 "nbformat": 4,
 "nbformat_minor": 2
}
