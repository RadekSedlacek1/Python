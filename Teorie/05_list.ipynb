{
 "cells": [
  {
   "cell_type": "markdown",
   "metadata": {},
   "source": [
    "# List\n",
    "## datový typ: seznam odkazů na hodnoty v paměti"
   ]
  },
  {
   "cell_type": "code",
   "execution_count": 1,
   "metadata": {},
   "outputs": [
    {
     "name": "stdout",
     "output_type": "stream",
     "text": [
      "[1, 2, 3, 4, 5, 6]\n"
     ]
    }
   ],
   "source": [
    "l = [1, 2, 3, 4, 5, 6]\n",
    "print(l)"
   ]
  },
  {
   "cell_type": "markdown",
   "metadata": {},
   "source": [
    "List je \"seznam\" odkazů na prvky. Lze do něj vložit jiné datové typy, i lze vložit list do listu."
   ]
  },
  {
   "cell_type": "code",
   "execution_count": 2,
   "metadata": {},
   "outputs": [
    {
     "name": "stdout",
     "output_type": "stream",
     "text": [
      "[1, 2, [1, 2, 3, 4, 5, 6], 5]\n",
      "[1, 2, [1, 5, 3, 4, 5, 6], 5]\n"
     ]
    }
   ],
   "source": [
    "l1 = [1, 2, l, 5]   # l1 obsahuje odkaz na l, když změním prvek v l, změní se tedy i v l1\n",
    "print(l1)\n",
    "l[1] = 5 # Změním prvek l na pozici 5\n",
    "print(l1)"
   ]
  },
  {
   "cell_type": "code",
   "execution_count": 3,
   "metadata": {},
   "outputs": [
    {
     "name": "stdout",
     "output_type": "stream",
     "text": [
      "[[0, 0, 0, 0, 0]]\n"
     ]
    }
   ],
   "source": [
    "l2 = [[0]*5] \n",
    "print(l2)"
   ]
  },
  {
   "cell_type": "code",
   "execution_count": 4,
   "metadata": {},
   "outputs": [
    {
     "name": "stdout",
     "output_type": "stream",
     "text": [
      "2511629466304\n",
      "2511629466304\n"
     ]
    }
   ],
   "source": [
    "l3 = l1 # l3 není nový objekt, je to odkaz na stejný list. Změním-li prvek v l1, změní se v l3\n",
    "print(id(l1))\n",
    "print(id(l3))"
   ]
  },
  {
   "cell_type": "code",
   "execution_count": 5,
   "metadata": {},
   "outputs": [
    {
     "name": "stdout",
     "output_type": "stream",
     "text": [
      "2511629466304\n",
      "2511629459968\n"
     ]
    }
   ],
   "source": [
    "l3 = l1[:] # pomocí slicingu vytvořím nový objekt\n",
    "\n",
    "print(id(l1))\n",
    "print(id(l3))"
   ]
  },
  {
   "cell_type": "markdown",
   "metadata": {},
   "source": [
    "* iterable, iterator, metoda next\n",
    "* iterable je objekt, u kterého dává smysl procházet prvky (list, set, string,...)\n",
    "* iterator je něco, co má metodu next - při každém zavolání vrací další prvek.\n",
    "* Iterace využívá například cyklus typu while\n",
    "* Metoda zip - pro procházení podle více indexů\n",
    "* Metoda sorted - seřazení prvků v listu"
   ]
  }
 ],
 "metadata": {
  "kernelspec": {
   "display_name": "Python 3",
   "language": "python",
   "name": "python3"
  },
  "language_info": {
   "codemirror_mode": {
    "name": "ipython",
    "version": 3
   },
   "file_extension": ".py",
   "mimetype": "text/x-python",
   "name": "python",
   "nbconvert_exporter": "python",
   "pygments_lexer": "ipython3",
   "version": "3.12.5"
  }
 },
 "nbformat": 4,
 "nbformat_minor": 2
}
