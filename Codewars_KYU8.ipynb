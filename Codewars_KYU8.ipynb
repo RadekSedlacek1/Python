{
 "cells": [
  {
   "cell_type": "code",
   "execution_count": 7,
   "metadata": {},
   "outputs": [
    {
     "name": "stdout",
     "output_type": "stream",
     "text": [
      "Odd Even\n",
      "Odd Even\n"
     ]
    }
   ],
   "source": [
    "# Even or Odd\n",
    "\n",
    "# Moje řešení:\n",
    "def even_or_odd(number):\n",
    "  return 'Even' if number % 2 == 0 else 'Odd'\n",
    "\n",
    "print(even_or_odd(3), even_or_odd(4))\n",
    "\n",
    "# Nejlepší řešení:\n",
    "# Je lepší, protože number % 2 vrací 1 True nebo 0 False už přímo, nemusím vyhodnocovat == 0\n",
    "def even_or_odd(number):\n",
    "\treturn 'Odd' if number % 2 else 'Even'\n",
    "print(even_or_odd(3), even_or_odd(4))"
   ]
  },
  {
   "cell_type": "code",
   "execution_count": 9,
   "metadata": {},
   "outputs": [
    {
     "name": "stdout",
     "output_type": "stream",
     "text": [
      "8\n"
     ]
    }
   ],
   "source": [
    "# Multiply\n",
    "\n",
    "# Moje řešení:\n",
    "def multiply(a, b):\n",
    "    return a * b # Chybělo return\n",
    "\n",
    "print(multiply(2, 4))"
   ]
  },
  {
   "cell_type": "code",
   "execution_count": 10,
   "metadata": {},
   "outputs": [
    {
     "name": "stdout",
     "output_type": "stream",
     "text": [
      "-5\n"
     ]
    }
   ],
   "source": [
    "# Return negative\n",
    "\n",
    "# Moje řešení:\n",
    "def make_negative( number ):\n",
    "    return -1*number if number > 0 else number\n",
    "print(make_negative(5))\n",
    "\n",
    "# Nejlepší řešení:\n",
    "# Je lepší, protože ABS vždy vrátí kladné číslo, takže -ABS() je vždy záporné. Nemusím násobit * -1\n",
    "def make_negative( number ):\n",
    "    return -abs(number)\n",
    "print(make_negative(5))"
   ]
  },
  {
   "cell_type": "code",
   "execution_count": null,
   "metadata": {},
   "outputs": [],
   "source": [
    "# Sum of positive\n",
    "\n",
    "# Moje řešení:\n",
    "def positive_sum(arr):\n",
    "    return sum(num for num in arr if num>0)\n",
    "\n",
    "# Nejlepší řešení:\n",
    "# Tady jsem se trefil\n",
    "def positive_sum(arr):\n",
    "    return sum(x for x in arr if x > 0)"
   ]
  },
  {
   "cell_type": "code",
   "execution_count": 1,
   "metadata": {},
   "outputs": [
    {
     "name": "stdout",
     "output_type": "stream",
     "text": [
      "aharP\n"
     ]
    }
   ],
   "source": [
    "# reversed strings\n",
    "\n",
    "# Moje řešení\n",
    "def solution(string):\n",
    "    return string[::-1]\n",
    "print(solution(\"Praha\"))\n",
    "# Nejlepší řešení\n",
    "# Je stejné\n",
    "def solution(str):\n",
    "  return str[::-1]"
   ]
  },
  {
   "cell_type": "code",
   "execution_count": 2,
   "metadata": {},
   "outputs": [],
   "source": [
    "# Convert a Number to a String!\n",
    "\n",
    "# Moje řešení\n",
    "def number_to_string(num):\n",
    "    return str(num)\n",
    "\n",
    "# Nejlepší řešení\n",
    "# Je stejné\n",
    "def number_to_string(num):\n",
    "    return str(num)"
   ]
  },
  {
   "cell_type": "code",
   "execution_count": 3,
   "metadata": {},
   "outputs": [
    {
     "name": "stdout",
     "output_type": "stream",
     "text": [
      "No\n"
     ]
    }
   ],
   "source": [
    "# Convert boolean values to strings 'Yes' or 'No'.\n",
    "\n",
    "# Moje řešení\n",
    "bool_to_word = lambda x: str(\"Yes\") if x else str(\"No\")\n",
    "\n",
    "print(bool_to_word(False))\n",
    "# Nejlepší řešení\n",
    "# Je lepší, protože je čitelnější. Zbytečně jsem machroval s Lambda funkcí. Není potřeba psát str(), protože to definují už ty uvozovky\n",
    "def bool_to_word(bool):\n",
    "    return \"Yes\" if bool else \"No\""
   ]
  },
  {
   "cell_type": "code",
   "execution_count": null,
   "metadata": {},
   "outputs": [],
   "source": [
    "# Square(n) Sum\n",
    "\n",
    "# Moje řešení\n",
    "square_sum = lambda n: sum(x**2 for x in n)\n",
    "\n",
    "# Nejlepší řešení\n",
    "# Je lepší, protože je čitelnější\n",
    "def square_sum(numbers):\n",
    "    return sum(x ** 2 for x in numbers)"
   ]
  },
  {
   "cell_type": "code",
   "execution_count": null,
   "metadata": {},
   "outputs": [],
   "source": [
    "# Remove First and Last Character\n",
    "\n",
    "# Moje řešení je zároveň nejlepší\n",
    "def remove_char(s):\n",
    "    return s[1 : -1]"
   ]
  },
  {
   "cell_type": "code",
   "execution_count": null,
   "metadata": {},
   "outputs": [],
   "source": [
    "# Opposite number\n",
    "\n",
    "# Moje řešení je i nejlepší\n",
    "def opposite(number):\n",
    "  return -number"
   ]
  }
 ],
 "metadata": {
  "kernelspec": {
   "display_name": "Python 3",
   "language": "python",
   "name": "python3"
  },
  "language_info": {
   "codemirror_mode": {
    "name": "ipython",
    "version": 3
   },
   "file_extension": ".py",
   "mimetype": "text/x-python",
   "name": "python",
   "nbconvert_exporter": "python",
   "pygments_lexer": "ipython3",
   "version": "3.12.5"
  }
 },
 "nbformat": 4,
 "nbformat_minor": 2
}
