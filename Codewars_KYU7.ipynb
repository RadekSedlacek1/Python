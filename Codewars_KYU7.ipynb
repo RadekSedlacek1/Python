{
 "cells": [
  {
   "cell_type": "markdown",
   "metadata": {},
   "source": [
    "# Spočítej samohlásky ve stringu"
   ]
  },
  {
   "cell_type": "code",
   "execution_count": 2,
   "metadata": {},
   "outputs": [
    {
     "name": "stdout",
     "output_type": "stream",
     "text": [
      "13\n",
      "13\n"
     ]
    }
   ],
   "source": [
    "# Moje řešení\n",
    "def get_count(sentence):\n",
    "    symbols = 0\n",
    "    for letter in sentence:\n",
    "        if {letter}.issubset({\"a\", \"e\", \"i\", \"o\", \"u\"}):\n",
    "            symbols +=1\n",
    "    return symbols\n",
    "print(get_count(\"Ahoj, toto je zprava, kde se vyskytuji samohlasky\"))\n",
    "\n",
    "# Nejlepší řešení\n",
    "# Je lepší, protože:\n",
    "#   1. Můžu použít comprehension zápis for\n",
    "#   2. můžu použít if x in \"string\"\n",
    "def getCount(inputStr):\n",
    "    return sum(1 for let in inputStr if let in \"aeiouAEIOU\")\n",
    "print(get_count(\"Ahoj, toto je zprava, kde se vyskytuji samohlasky\"))"
   ]
  },
  {
   "cell_type": "markdown",
   "metadata": {},
   "source": [
    "# Odstraň samohlásky ze stringu"
   ]
  },
  {
   "cell_type": "code",
   "execution_count": 3,
   "metadata": {},
   "outputs": [
    {
     "name": "stdout",
     "output_type": "stream",
     "text": [
      "hj, tt j zprv, kd s vyskytj smhlsky\n",
      "hj, tt j zprv, kd s vyskytj smhlsky\n"
     ]
    }
   ],
   "source": [
    "# Moje řešení\n",
    "def disemvowel(string_):\n",
    "    forbiden = \"AaEeIiOoUu\"\n",
    "    return \"\".join(letter for letter in string_ if letter not in forbiden)\n",
    "\n",
    "print(disemvowel(\"Ahoj, toto je zprava, kde se vyskytuji samohlasky\"))\n",
    "\n",
    "# Nejlepší řešení\n",
    "# Je lepší, protože můžu přímo hledat ve stringu, nemusím si dělat forbiden\n",
    "def disemvowel(string):\n",
    "    return \"\".join(c for c in string if c.lower() not in \"aeiou\")\n",
    "\n",
    "print(disemvowel(\"Ahoj, toto je zprava, kde se vyskytuji samohlasky\"))"
   ]
  },
  {
   "cell_type": "markdown",
   "metadata": {},
   "source": [
    "# Řetězec cifer, který vznikne umocněním cifer řetězce"
   ]
  },
  {
   "cell_type": "code",
   "execution_count": 5,
   "metadata": {},
   "outputs": [
    {
     "name": "stdout",
     "output_type": "stream",
     "text": [
      "125364925\n",
      "125364925\n"
     ]
    }
   ],
   "source": [
    "# Moje řešení\n",
    "def square_digits(num):\n",
    "    My_list=list(str(num))\n",
    "    message = \"\"\n",
    "    for element in My_list:\n",
    "        message += (str(int(element)**2)) \n",
    "    return int(message)\n",
    "print(square_digits(15675))\n",
    "\n",
    "# Nejlepší řešení\n",
    "# Je lepší, protože si nemusím dělat list, lze procházet už string - je iterable\n",
    "def square_digits(num):\n",
    "    ret = \"\"\n",
    "    for x in str(num):\n",
    "        ret += str(int(x)**2)\n",
    "    return int(ret)\n",
    "print(square_digits(15675))"
   ]
  },
  {
   "cell_type": "markdown",
   "metadata": {},
   "source": [
    "# Minimum a maximum ze stringu čísel oddělených mezerou"
   ]
  },
  {
   "cell_type": "code",
   "execution_count": 9,
   "metadata": {},
   "outputs": [
    {
     "name": "stdout",
     "output_type": "stream",
     "text": [
      "42 -9\n",
      "42 -9\n"
     ]
    }
   ],
   "source": [
    "# Moje řešení\n",
    "def high_and_low(numbers):\n",
    "    numbers = numbers.split(\" \")\n",
    "    for index, element in enumerate(numbers):\n",
    "        numbers[index] = int(element)\n",
    "    numbers.sort()\n",
    "    return f\"{numbers[-1]} {numbers[0]}\"\n",
    "print(high_and_low(\"8 3 -5 42 -1 0 0 -9 4 7 4 -4\"))\n",
    "\n",
    "# Nejlepší řešení \n",
    "# Je lepší, protože\n",
    "#   1. můžu použít comprehension zápis\n",
    "#   2. můžu použít formátování textu % %i %i % % (vstup)\n",
    "def high_and_low(numbers):\n",
    "    nn = [int(s) for s in numbers.split(\" \")]\n",
    "    return \"%i %i\" % (max(nn),min(nn))\n",
    "print(high_and_low(\"8 3 -5 42 -1 0 0 -9 4 7 4 -4\"))"
   ]
  },
  {
   "cell_type": "markdown",
   "metadata": {},
   "source": [
    "# Seřazení cifer v číslu"
   ]
  },
  {
   "cell_type": "code",
   "execution_count": 11,
   "metadata": {},
   "outputs": [
    {
     "name": "stdout",
     "output_type": "stream",
     "text": [
      "654321\n",
      "654321\n"
     ]
    }
   ],
   "source": [
    "# Moje řešení\n",
    "def descending_order(num):\n",
    "    list_of_nums = [int(char) for char in str(num)]\n",
    "    list_of_nums.sort(reverse=True)\n",
    "    return int(\"\".join(str(digit) for digit in list_of_nums))\n",
    "print(descending_order(145263))\n",
    "\n",
    "# Nejlepší řešení\n",
    "# Je lepší, protože funkce sorted platí už na iterable, nemusím používat metodu .sort(). Tak to nemusím převádět na list a pak procházet list\n",
    "def Descending_Order(num):\n",
    "    return int(\"\".join(sorted(str(num), reverse=True)))\n",
    "print(descending_order(145263))"
   ]
  },
  {
   "cell_type": "markdown",
   "metadata": {},
   "source": [
    "# Vrať mi list bez stringů"
   ]
  },
  {
   "cell_type": "code",
   "execution_count": 14,
   "metadata": {},
   "outputs": [
    {
     "name": "stdout",
     "output_type": "stream",
     "text": [
      "[1, 2, 123]\n",
      "[1, 2, 123]\n"
     ]
    }
   ],
   "source": [
    "# Moje řešení\n",
    "filter_list = lambda l: [x for x in l if type(x) == int]\n",
    "print(filter_list([1,2,'aasf','1','123',123]))\n",
    "\n",
    "# Nejlepší řešení\n",
    "# Myslím si, že moje je lepší řešení\n",
    "\n",
    "def filter_list(l):\n",
    "  return [i for i in l if not isinstance(i, str)]\n",
    "print(filter_list([1,2,'aasf','1','123',123]))\n"
   ]
  },
  {
   "cell_type": "markdown",
   "metadata": {},
   "source": [
    "# Najdi prostřední znak pro lichý počet znaků stringu, prostřední 2 pro sudý"
   ]
  },
  {
   "cell_type": "code",
   "execution_count": 15,
   "metadata": {},
   "outputs": [
    {
     "name": "stdout",
     "output_type": "stream",
     "text": [
      "t\n",
      "es\n",
      "t\n",
      "es\n"
     ]
    }
   ],
   "source": [
    "# Moje řešení\n",
    "get_middle = lambda s: s[int(len(s)/2-0.5) : int(len(s)/2+1)] if len(s) % 2 == 0 else s[int(len(s)/2)]\n",
    "print(get_middle(\"testing\"))\n",
    "print(get_middle(\"test\"))\n",
    "\n",
    "# Nejlepší řešení\n",
    "# Je lepší, protože lambda funkce je dost dlouhá\n",
    "def get_middle(s):\n",
    "    index, odd = divmod(len(s), 2)\n",
    "    return s[index] if odd else s[index - 1:index + 1]\n",
    "print(get_middle(\"testing\"))\n",
    "print(get_middle(\"test\"))"
   ]
  },
  {
   "cell_type": "markdown",
   "metadata": {},
   "source": [
    "# Zjisti, je-li číslo odmocnitelné beze zbytku"
   ]
  },
  {
   "cell_type": "code",
   "execution_count": 17,
   "metadata": {},
   "outputs": [
    {
     "name": "stdout",
     "output_type": "stream",
     "text": [
      "True\n",
      "False\n",
      "True\n",
      "False\n"
     ]
    }
   ],
   "source": [
    "# Moje řešení\n",
    "def is_square(n):\n",
    "    return n > -1 and n**(1/2) % 1 == 0\n",
    "print(is_square(4))\n",
    "print(is_square(5))\n",
    "\n",
    "# Nejlepší řešení\n",
    "# Na odmocnění přeci nepotřebuju stahovat celou knihovnu math\n",
    "import math\n",
    "def is_square(n):\n",
    "    return n > -1 and math.sqrt(n) % 1 == 0\n",
    "print(is_square(4))\n",
    "print(is_square(5))"
   ]
  },
  {
   "cell_type": "markdown",
   "metadata": {},
   "source": [
    "# Je slovo isogram?\n",
    "### (isogram = každé písmeno se vyskytuje jen jednou)"
   ]
  },
  {
   "cell_type": "code",
   "execution_count": 20,
   "metadata": {},
   "outputs": [
    {
     "name": "stdout",
     "output_type": "stream",
     "text": [
      "False\n",
      "True\n",
      "False\n",
      "True\n"
     ]
    }
   ],
   "source": [
    "# Moje řešení\n",
    "def is_isogram(string):\n",
    "    #your code here\n",
    "    letters_set = set()\n",
    "    for letter in string:\n",
    "        letter_a = set(letter.lower())\n",
    "        if letter_a.issubset(letters_set):\n",
    "            return False\n",
    "        else:\n",
    "            letters_set.add(letter.lower())\n",
    "    return True\n",
    "print(is_isogram(\"Praha\"))\n",
    "print(is_isogram(\"Radek\"))\n",
    "\n",
    "# Nejlepší řešení\n",
    "# Je lepší, protože když vytvořím z řetězce set, tak se smažou duplikace. To lze použít pro porovnání délky setu a původního řetězce ke zjištění umazání duplikací v setu\n",
    "def is_isogram(string):\n",
    "    return len(string) == len(set(string.lower()))\n",
    "print(is_isogram(\"Praha\"))\n",
    "print(is_isogram(\"Radek\"))"
   ]
  },
  {
   "cell_type": "markdown",
   "metadata": {},
   "source": [
    "# Končí řetězec danou kombinací znaků?"
   ]
  },
  {
   "cell_type": "code",
   "execution_count": 24,
   "metadata": {},
   "outputs": [
    {
     "name": "stdout",
     "output_type": "stream",
     "text": [
      "True\n",
      "False\n",
      "True\n",
      "False\n"
     ]
    }
   ],
   "source": [
    "# Moje řešení\n",
    "def solution(text, ending):\n",
    "    for index in range(len(ending)):\n",
    "        if ending[-index-1] != text[-index-1] or len(text)<len(ending):\n",
    "            return False\n",
    "    return True\n",
    "print(solution(\"ninja\",\"ja\"))\n",
    "print(solution(\"samuraj\",\"ra\"))\n",
    "\n",
    "# Nejlepší řešení\n",
    "# Měl jsme si pořádně projít metody stringu, našel bych to\n",
    "def solution(string, ending):\n",
    "    return string.endswith(ending)\n",
    "print(solution(\"ninja\",\"ja\"))\n",
    "print(solution(\"samuraj\",\"ra\"))"
   ]
  }
 ],
 "metadata": {
  "kernelspec": {
   "display_name": "Python 3",
   "language": "python",
   "name": "python3"
  },
  "language_info": {
   "codemirror_mode": {
    "name": "ipython",
    "version": 3
   },
   "file_extension": ".py",
   "mimetype": "text/x-python",
   "name": "python",
   "nbconvert_exporter": "python",
   "pygments_lexer": "ipython3",
   "version": "3.12.5"
  }
 },
 "nbformat": 4,
 "nbformat_minor": 2
}
